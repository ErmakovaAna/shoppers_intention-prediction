{
  "cells": [
    {
      "cell_type": "markdown",
      "metadata": {
        "id": "LE6Ay0ce-JpF"
      },
      "source": [
        "# Online Shoppers Purchasing Intention Prediction"
      ]
    },
    {
      "cell_type": "markdown",
      "metadata": {
        "id": "jJh6Lteo-jh1"
      },
      "source": [
        "## Импорт библиотек и загрузка данных"
      ]
    },
    {
      "cell_type": "code",
      "execution_count": null,
      "metadata": {
        "colab": {
          "base_uri": "https://localhost:8080/"
        },
        "id": "dA_O5fERmdZZ",
        "outputId": "3276871e-a27c-435c-a673-0f0ff45a7511"
      },
      "outputs": [],
      "source": [
        "!pip install scikit-plot"
      ]
    },
    {
      "cell_type": "code",
      "execution_count": null,
      "metadata": {},
      "outputs": [],
      "source": [
        "!pip install imblearn"
      ]
    },
    {
      "cell_type": "code",
      "execution_count": null,
      "metadata": {
        "colab": {
          "base_uri": "https://localhost:8080/"
        },
        "id": "AQRSvgOQxl9O",
        "outputId": "18ad0ade-fced-4ede-8456-186fce3bae52"
      },
      "outputs": [],
      "source": [
        "!pip install explainerdashboard==0.4.3 -q"
      ]
    },
    {
      "cell_type": "code",
      "execution_count": 23,
      "metadata": {
        "colab": {
          "base_uri": "https://localhost:8080/",
          "height": 0
        },
        "id": "DaPU1e7s7vHO",
        "outputId": "22462bc6-c65b-444f-e6ae-578630b69fd8"
      },
      "outputs": [],
      "source": [
        "import joblib\n",
        "import numpy as np\n",
        "import pandas as pd\n",
        "import matplotlib.pyplot as plt\n",
        "import seaborn as sns\n",
        "import scikitplot as splt\n",
        "import IPython.display as display\n",
        "\n",
        "from explainerdashboard import ClassifierExplainer, ExplainerDashboard\n",
        "from IPython.core.interactiveshell import InteractiveShell\n",
        "InteractiveShell.ast_node_interactivity = 'all'\n",
        "\n",
        "from sklearn.model_selection import train_test_split, cross_val_score, cross_validate, GridSearchCV, RandomizedSearchCV\n",
        "\n",
        "from sklearn.linear_model import LogisticRegression\n",
        "from sklearn.naive_bayes import GaussianNB\n",
        "from sklearn.neighbors import KNeighborsClassifier\n",
        "from sklearn.ensemble import RandomForestClassifier\n",
        "\n",
        "from sklearn.metrics import roc_auc_score, roc_curve, auc, confusion_matrix, matthews_corrcoef\n",
        "from imblearn.metrics import sensitivity_score, specificity_score, geometric_mean_score\n",
        "\n",
        "from sklearn.preprocessing import OneHotEncoder, MinMaxScaler, RobustScaler\n",
        "from sklearn.compose import ColumnTransformer\n",
        "\n",
        "%matplotlib inline\n",
        "\n",
        "sns.set(style='darkgrid')\n",
        "plt.rcParams['figure.figsize'] = (5,3)"
      ]
    },
    {
      "cell_type": "markdown",
      "metadata": {
        "id": "6s_0XI3jTIn5"
      },
      "source": [
        "В проекте используются данные об активности онлайн-покупателей на сайте магазина.\n",
        "\n",
        "[Оригинальный датасет](https://archive.ics.uci.edu/ml/datasets/Online+Shoppers+Purchasing+Intention+Dataset). *Sakar,C. and Kastro,Yomi. (2018). Online Shoppers Purchasing Intention Dataset. UCI Machine Learning Repository. https://doi.org/10.24432/C5F88Q.*\n",
        "\n"
      ]
    },
    {
      "cell_type": "markdown",
      "metadata": {
        "id": "KCCuR9z4b3uL"
      },
      "source": [
        "На данном этапе мы работаем с датасетом, полученным после проведения разведочного анализа. В ходе предобработки были сделаны следующие изменения:\n",
        "\n",
        "- удаление дублирующихся строк;\n",
        "\n",
        "- исключение строк с пропущенными значениями в столбце ```ExitRates```;\n",
        "\n",
        "- замена пропущенных значений в стоблцах ```Informational_Duration``` и ```ProductRelated_Duration``` на медианные значения этих признаков;\n",
        "\n",
        "- удаление строк, где количество просмотренных *ProductRelated* страниц равно нулю, а значение показателя *ProductRelated_Duration* больше нуля (такие наблюдения считаются нелогичными);\n",
        "\n",
        "- приведение строковых значений категориального признака *Month* к единообразному формату."
      ]
    },
    {
      "cell_type": "code",
      "execution_count": 74,
      "metadata": {
        "id": "ra4f1mFh_G3I"
      },
      "outputs": [],
      "source": [
        "SHOPPERS_DATASET = 'https://raw.githubusercontent.com/ErmakovaAna/shoppers-intention-prediction/main/EDA/shoppers_preprocessed.csv'"
      ]
    },
    {
      "cell_type": "code",
      "execution_count": 75,
      "metadata": {
        "id": "ZMN5iChp_QUq"
      },
      "outputs": [],
      "source": [
        "df = pd.read_csv(SHOPPERS_DATASET)"
      ]
    },
    {
      "cell_type": "markdown",
      "metadata": {
        "id": "lj90QWLEBJSx"
      },
      "source": [
        "## Описание данныx"
      ]
    },
    {
      "cell_type": "markdown",
      "metadata": {
        "id": "ABJPHN1vVIH8"
      },
      "source": [
        "Предобработанный датасет содержит **12117 объектов**, каждый из которых представляет собой описание сессии покупателя на сайте онлайн магазина.\n",
        "\n",
        "Каждому объекту соответствует **18 атрибутов**, включая целевую переменную `Revenue`, которая указывает на факт совершения покупки (*True* — сессия завершилась покупкой, *False* — покупатель покинул сайт, ничего не купив)."
      ]
    },
    {
      "cell_type": "code",
      "execution_count": 26,
      "metadata": {
        "colab": {
          "base_uri": "https://localhost:8080/"
        },
        "id": "GjFqlR8pA2RQ",
        "outputId": "dd04734e-88ce-4c8e-cf81-84de76eaafce"
      },
      "outputs": [
        {
          "data": {
            "text/plain": [
              "(12117, 18)"
            ]
          },
          "execution_count": 26,
          "metadata": {},
          "output_type": "execute_result"
        }
      ],
      "source": [
        "df.shape"
      ]
    },
    {
      "cell_type": "code",
      "execution_count": 27,
      "metadata": {
        "colab": {
          "base_uri": "https://localhost:8080/",
          "height": 0
        },
        "id": "WCdseiNNBOQV",
        "outputId": "ba52c73a-49e6-4cb9-a118-839ed0881002"
      },
      "outputs": [
        {
          "data": {
            "text/html": [
              "<div>\n",
              "<style scoped>\n",
              "    .dataframe tbody tr th:only-of-type {\n",
              "        vertical-align: middle;\n",
              "    }\n",
              "\n",
              "    .dataframe tbody tr th {\n",
              "        vertical-align: top;\n",
              "    }\n",
              "\n",
              "    .dataframe thead th {\n",
              "        text-align: right;\n",
              "    }\n",
              "</style>\n",
              "<table border=\"1\" class=\"dataframe\">\n",
              "  <thead>\n",
              "    <tr style=\"text-align: right;\">\n",
              "      <th></th>\n",
              "      <th>Administrative</th>\n",
              "      <th>Administrative_Duration</th>\n",
              "      <th>Informational</th>\n",
              "      <th>Informational_Duration</th>\n",
              "      <th>ProductRelated</th>\n",
              "      <th>ProductRelated_Duration</th>\n",
              "      <th>BounceRates</th>\n",
              "      <th>ExitRates</th>\n",
              "      <th>PageValues</th>\n",
              "      <th>SpecialDay</th>\n",
              "      <th>Month</th>\n",
              "      <th>OperatingSystems</th>\n",
              "      <th>Browser</th>\n",
              "      <th>Region</th>\n",
              "      <th>TrafficType</th>\n",
              "      <th>VisitorType</th>\n",
              "      <th>Weekend</th>\n",
              "      <th>Revenue</th>\n",
              "    </tr>\n",
              "  </thead>\n",
              "  <tbody>\n",
              "    <tr>\n",
              "      <th>8420</th>\n",
              "      <td>6</td>\n",
              "      <td>368.750</td>\n",
              "      <td>0</td>\n",
              "      <td>0.0</td>\n",
              "      <td>46</td>\n",
              "      <td>3368.305556</td>\n",
              "      <td>0.003846</td>\n",
              "      <td>0.011859</td>\n",
              "      <td>0.0</td>\n",
              "      <td>0.0</td>\n",
              "      <td>Nov</td>\n",
              "      <td>2</td>\n",
              "      <td>2</td>\n",
              "      <td>1</td>\n",
              "      <td>2</td>\n",
              "      <td>New_Visitor</td>\n",
              "      <td>False</td>\n",
              "      <td>0</td>\n",
              "    </tr>\n",
              "    <tr>\n",
              "      <th>9294</th>\n",
              "      <td>4</td>\n",
              "      <td>23.375</td>\n",
              "      <td>2</td>\n",
              "      <td>231.6</td>\n",
              "      <td>35</td>\n",
              "      <td>996.148077</td>\n",
              "      <td>0.006081</td>\n",
              "      <td>0.041742</td>\n",
              "      <td>0.0</td>\n",
              "      <td>0.0</td>\n",
              "      <td>Nov</td>\n",
              "      <td>2</td>\n",
              "      <td>2</td>\n",
              "      <td>5</td>\n",
              "      <td>2</td>\n",
              "      <td>Returning_Visitor</td>\n",
              "      <td>True</td>\n",
              "      <td>0</td>\n",
              "    </tr>\n",
              "    <tr>\n",
              "      <th>1500</th>\n",
              "      <td>0</td>\n",
              "      <td>0.000</td>\n",
              "      <td>0</td>\n",
              "      <td>0.0</td>\n",
              "      <td>19</td>\n",
              "      <td>926.633333</td>\n",
              "      <td>0.011111</td>\n",
              "      <td>0.029630</td>\n",
              "      <td>0.0</td>\n",
              "      <td>0.0</td>\n",
              "      <td>Mar</td>\n",
              "      <td>2</td>\n",
              "      <td>2</td>\n",
              "      <td>2</td>\n",
              "      <td>1</td>\n",
              "      <td>Returning_Visitor</td>\n",
              "      <td>True</td>\n",
              "      <td>0</td>\n",
              "    </tr>\n",
              "    <tr>\n",
              "      <th>1224</th>\n",
              "      <td>1</td>\n",
              "      <td>42.000</td>\n",
              "      <td>2</td>\n",
              "      <td>80.5</td>\n",
              "      <td>46</td>\n",
              "      <td>838.683333</td>\n",
              "      <td>0.000000</td>\n",
              "      <td>0.015417</td>\n",
              "      <td>0.0</td>\n",
              "      <td>0.0</td>\n",
              "      <td>Mar</td>\n",
              "      <td>2</td>\n",
              "      <td>2</td>\n",
              "      <td>1</td>\n",
              "      <td>10</td>\n",
              "      <td>Returning_Visitor</td>\n",
              "      <td>False</td>\n",
              "      <td>0</td>\n",
              "    </tr>\n",
              "    <tr>\n",
              "      <th>8689</th>\n",
              "      <td>0</td>\n",
              "      <td>0.000</td>\n",
              "      <td>0</td>\n",
              "      <td>0.0</td>\n",
              "      <td>10</td>\n",
              "      <td>664.500000</td>\n",
              "      <td>0.000000</td>\n",
              "      <td>0.040000</td>\n",
              "      <td>0.0</td>\n",
              "      <td>0.0</td>\n",
              "      <td>Nov</td>\n",
              "      <td>2</td>\n",
              "      <td>2</td>\n",
              "      <td>8</td>\n",
              "      <td>2</td>\n",
              "      <td>New_Visitor</td>\n",
              "      <td>True</td>\n",
              "      <td>0</td>\n",
              "    </tr>\n",
              "  </tbody>\n",
              "</table>\n",
              "</div>"
            ],
            "text/plain": [
              "      Administrative  Administrative_Duration  Informational  \\\n",
              "8420               6                  368.750              0   \n",
              "9294               4                   23.375              2   \n",
              "1500               0                    0.000              0   \n",
              "1224               1                   42.000              2   \n",
              "8689               0                    0.000              0   \n",
              "\n",
              "      Informational_Duration  ProductRelated  ProductRelated_Duration  \\\n",
              "8420                     0.0              46              3368.305556   \n",
              "9294                   231.6              35               996.148077   \n",
              "1500                     0.0              19               926.633333   \n",
              "1224                    80.5              46               838.683333   \n",
              "8689                     0.0              10               664.500000   \n",
              "\n",
              "      BounceRates  ExitRates  PageValues  SpecialDay Month  OperatingSystems  \\\n",
              "8420     0.003846   0.011859         0.0         0.0   Nov                 2   \n",
              "9294     0.006081   0.041742         0.0         0.0   Nov                 2   \n",
              "1500     0.011111   0.029630         0.0         0.0   Mar                 2   \n",
              "1224     0.000000   0.015417         0.0         0.0   Mar                 2   \n",
              "8689     0.000000   0.040000         0.0         0.0   Nov                 2   \n",
              "\n",
              "      Browser  Region  TrafficType        VisitorType  Weekend  Revenue  \n",
              "8420        2       1            2        New_Visitor    False        0  \n",
              "9294        2       5            2  Returning_Visitor     True        0  \n",
              "1500        2       2            1  Returning_Visitor     True        0  \n",
              "1224        2       1           10  Returning_Visitor    False        0  \n",
              "8689        2       8            2        New_Visitor     True        0  "
            ]
          },
          "execution_count": 27,
          "metadata": {},
          "output_type": "execute_result"
        }
      ],
      "source": [
        "df.sample(5)"
      ]
    },
    {
      "cell_type": "markdown",
      "metadata": {
        "id": "b8ACrhFCBeeG"
      },
      "source": [
        "В датасете представлены ***10 числовых*** признаков:\n",
        "\n",
        "|                         | description                                                                           |         mean |       median |          std |   min |       max |\n",
        "|:------------------------|:--------------------------------------------------------------------------------------|-------------:|-------------:|-------------:|------:|----------:|\n",
        "| **Administrative**          | количество *administrative* страниц, которое посетил пользователь во время сессии                                 |    2.33582   |   1          |    3.32933   |     0 |    27     |\n",
        "| **Informational**           | количество *informational* страниц, которое посетил пользователь во время сессии                                   |    0.50806   |   0          |    1.27491   |     0 |    24     |\n",
        "| **ProductRelated**         | количество *product related* страниц, которое посетил пользователь во время сессии                                 |   32.0051    |  18          |   44.5785    |     0 |   705     |\n",
        "| **Administrative_Duration** |количество времени, проведенное на *administrative* страницах                                                    |   81.5394    |   9          |  177.4       |     0 |  3398.75  |\n",
        "| **Informational_Duration**  | количество времени, проведенное на *informational* страницах                                                     |   34.4688    |   0          |  141.164     |     0 |  2549.38  |\n",
        "| **ProductRelated_Duration** | количество времени, проведенное на *product related* страницах                                                   | 1177.58      | 606.283      | 1878.67      |     0 | 63973.5   |\n",
        "| **BounceRates**             | процент сессий, во время которых была просмотрена *только* определенная страница, от общего количества сессий, начавшихся с просмотра этой страницы |    0.0206055 |   0.00294118 |    0.0456899 |     0 |     0.2   |\n",
        "| **ExitRates**               | процент сессий, которые заканчиваются просмотром данной страницы                      |    0.0416095 |   0.025      |    0.0464317 |     0 |     0.2   |\n",
        "| **PageValues**              | средняя ценность страниц, рассчитываемая путем деления общего дохода на количество сессий, в рамках которых посещалась данные страницы                                                                                   |    5.94178   |   0          |   18.6427    |     0 |   361.764 |\n",
        "| **SpecialDay**              |показатель близости времени посещения сайта к некоторому праздничному дню                                          |    0.0618607 |   0          |    0.199548  |     0 |     1     |\n",
        "\n",
        "и ***8 категориальных*** признаков, в том числе выраженных целочисленными, строковыми и булевыми значениями:\n",
        "\n",
        "|                  | description                               |   unique |   top |   freq |\n",
        "|:-----------------|:------------------------------------------|---------:|------:|-------:|\n",
        "| **OperatingSystems** | операционная система пользователя         |        8 |     2 |   6547 |\n",
        "| **Browser**          | браузер, через который выполнялась сессия |       13 |     2 |   7890 |\n",
        "| **Region**           | регион пользователя                       |        9 |     1 |   4722 |\n",
        "| **TrafficType**      | категория трафика                         |       20 |     2 |   3912 |\n",
        "| **Month**       | месяц выполнения сессии |       11 | May               |   3316 |\n",
        "| **VisitorType** | категория пользователя  |        3 | Returning_Visitor |  10446 |\n",
        "| **Weekend** | флаг, указывающий на то, выполнялась ли сессия на выходных                |        2 |     False |   9360 |\n",
        "| **Revenue** | флаг, указывающий на то, была ли завершена покупка в рамках данной сессии |        2 |     False |  10313 |"
      ]
    },
    {
      "cell_type": "code",
      "execution_count": 28,
      "metadata": {
        "id": "9lKVKVe0D1Gd"
      },
      "outputs": [],
      "source": [
        "df.OperatingSystems = df.OperatingSystems.astype(object)\n",
        "df.Browser = df.Browser.astype(object)\n",
        "df.Region = df.Region.astype(object)\n",
        "df.TrafficType = df.TrafficType.astype(object)"
      ]
    },
    {
      "cell_type": "code",
      "execution_count": 29,
      "metadata": {
        "id": "eI1MLjXZGoOl"
      },
      "outputs": [],
      "source": [
        "numerical = ['Administrative', 'Administrative_Duration', 'Informational', 'Informational_Duration',\n",
        "             'ProductRelated', 'ProductRelated_Duration', 'BounceRates', 'ExitRates',\n",
        "             'PageValues', 'SpecialDay']\n",
        "\n",
        "categorical = ['Month', 'OperatingSystems', 'Browser', 'Region', 'TrafficType',\n",
        "               'VisitorType', 'Weekend']"
      ]
    },
    {
      "cell_type": "markdown",
      "metadata": {
        "id": "QaPvHbA8mDDA"
      },
      "source": [
        "## Описание эксперимента"
      ]
    },
    {
      "cell_type": "markdown",
      "metadata": {
        "id": "6f1LjrtVPNDG"
      },
      "source": [
        "**Постановка задачи**\n",
        "\n",
        "Решается задача бинарной классификации. Цель — предсказать, совершит ли пользователь покупку к концу текущей сессии. Целевой переменной является ```Revenue```.\n",
        "\n",
        "Разведочный анализ данных выявил **сильный дисбаланс классов**: 84,4% наблюдений относятся к сессиям, во время которых покупка не была совершена, и 15,6% наблюдений представляют сессии, завершенные покупкой.\n",
        "\n",
        "При построении моделей планируется использовать исходные несбалансированные данные."
      ]
    },
    {
      "cell_type": "code",
      "execution_count": 30,
      "metadata": {
        "colab": {
          "base_uri": "https://localhost:8080/",
          "height": 356
        },
        "id": "eDy_veIpe9tC",
        "outputId": "df847c33-23d7-4d8e-f717-446c3ee32284"
      },
      "outputs": [
        {
          "data": {
            "image/png": "[encoded data removed]",
            "text/plain": [
              "<Figure size 700x400 with 1 Axes>"
            ]
          },
          "metadata": {},
          "output_type": "display_data"
        }
      ],
      "source": [
        "plt.figure(figsize=(7, 4))\n",
        "data = [df['Revenue'].value_counts()[0], df['Revenue'].value_counts()[1]]\n",
        "labels = ['False', 'True']\n",
        "plt.pie(\n",
        "    data, labels=labels,\n",
        "    colors=sns.color_palette('pastel'), autopct='%.1f%%',\n",
        "    wedgeprops={'linewidth': 3.0, 'edgecolor': 'white'},\n",
        "    textprops={'size': 'medium', 'color': 'white', 'fontweight': 'bold'},\n",
        "    startangle=45\n",
        ")\n",
        "plt.legend(labels=labels, loc='upper right', bbox_to_anchor=(1.3, 1))\n",
        "plt.title('Revenue', fontsize=18, y=.95);"
      ]
    },
    {
      "cell_type": "markdown",
      "metadata": {
        "id": "coLLDKfseNRC"
      },
      "source": [
        "**План эксперимента**\n",
        "\n",
        "1 _ Обучение базовых моделей (**Gaussian Naïve Bayes**, **kNN**, **Logistic Regression**, **Random Forest**) с параметрами по умолчанию на подмножестве *числовых признаков*.\n",
        "\n",
        "2 _ Подобор оптимальных гиперпараметров для моделей, используя только *числовые* признаки.\n",
        "\n",
        "3 _ Сравнение моделей с лучшими подобранными гиперпараметрами и выбор оптимальной на основе анализа метрик качества.\n",
        "\n",
        "4 _ Обучение и дополнительный подбор гиперпараметров для выбранной модели на полном наборе признаков, включая как *числовые*, так и *категориальные*.\n",
        "\n",
        "5 _ Оценка и анализ полученной модели в Explainer Dashboard.\n",
        "\n"
      ]
    },
    {
      "cell_type": "code",
      "execution_count": 31,
      "metadata": {
        "id": "h30RDYjJUK03"
      },
      "outputs": [],
      "source": [
        "def metrics_report(model_name, y_true, y_pred):\n",
        "  sensitivity = sensitivity_score(y_true, y_pred)\n",
        "  specificity = specificity_score(y_true, y_pred)\n",
        "  mcc = matthews_corrcoef(y_true, y_pred)\n",
        "  gmean = geometric_mean_score(y_true, y_pred)\n",
        "\n",
        "  scores = pd.DataFrame({\n",
        "      'Sensitivity': sensitivity,\n",
        "      'Specificity': specificity,\n",
        "      'G Mean': gmean,\n",
        "      'MCC': mcc\n",
        "  }, index=[model_name])\n",
        "\n",
        "  plt.show(splt.metrics.plot_confusion_matrix(y_true, y_pred))\n",
        "  return scores"
      ]
    },
    {
      "cell_type": "markdown",
      "metadata": {
        "id": "4ZbWkcC3ZGEA"
      },
      "source": [
        "При оценке эффективности моделей на несбалансированных данных рассматривались следующие метрики:\n",
        "\n",
        "- __*Sensitivity*__ (=*Recall*): мера эффективности классификатора на положительном (миноритарном) классе;\n",
        "\n",
        "- __*Specificity*__: мера эффективности классификатора на отрицательном (преобладающем) классе;\n",
        "\n",
        "- __*G-Mean*__: среднее геометрическое *Sensitivity* и *Specificity*; чем выше значение этой метрики, тем точнее классификация для каждого из классов, при условии сохранении баланса между ними;\n",
        "\n",
        "- __*Matthew's Correlation Coefficient*__ (MCC): коэффициент корреляции между прогнозируемыми и фактическими значениями, который учитывает все значения из матрицы ошибок; принимает значения в диапазоне от -1 до +1.\n",
        "\n",
        "Кроме того, проводилось сравнение моделей, обученных на числовых признаках, на основе __*ROC-кривых*__ и соответствующих показателей __*AUC*__."
      ]
    },
    {
      "cell_type": "markdown",
      "metadata": {
        "id": "0sRFEKZPB8JB"
      },
      "source": [
        "## 1. Построение моделей на числовых признаках"
      ]
    },
    {
      "cell_type": "markdown",
      "metadata": {
        "id": "Oa1zYjNs9JAd"
      },
      "source": [
        "### Подготовка данных\n",
        "\n",
        "На данном этапе оставляем только *числовые* признаки.\n",
        "\n",
        "Данные разбиваются на тренировочную (**75%**) и тестовую (**25%**) выборку."
      ]
    },
    {
      "cell_type": "code",
      "execution_count": 32,
      "metadata": {
        "id": "HXd-RifQCuDJ"
      },
      "outputs": [],
      "source": [
        "X = df[numerical]\n",
        "y = df['Revenue']"
      ]
    },
    {
      "cell_type": "code",
      "execution_count": 33,
      "metadata": {
        "id": "YFv2VUHBG55C"
      },
      "outputs": [],
      "source": [
        "X_train, X_test, y_train, y_test = train_test_split(X, y, test_size=0.25, random_state=8)"
      ]
    },
    {
      "cell_type": "code",
      "execution_count": 34,
      "metadata": {
        "id": "7IUjGBqW9qIx"
      },
      "outputs": [],
      "source": [
        "scaler = RobustScaler()\n",
        "\n",
        "X_train_scaled = scaler.fit_transform(X_train)\n",
        "X_test_scaled = scaler.transform(X_test)"
      ]
    },
    {
      "cell_type": "markdown",
      "metadata": {
        "id": "JtZliImQGRod"
      },
      "source": [
        "### Naïve Bayes Classifier"
      ]
    },
    {
      "cell_type": "code",
      "execution_count": 35,
      "metadata": {
        "colab": {
          "base_uri": "https://localhost:8080/",
          "height": 74
        },
        "id": "YV7a8SY9HT8L",
        "outputId": "80f76f3f-6b6d-490b-832c-f1ca6e999a85"
      },
      "outputs": [
        {
          "data": {
            "text/html": [
              "<style>#sk-container-id-1 {color: black;}#sk-container-id-1 pre{padding: 0;}#sk-container-id-1 div.sk-toggleable {background-color: white;}#sk-container-id-1 label.sk-toggleable__label {cursor: pointer;display: block;width: 100%;margin-bottom: 0;padding: 0.3em;box-sizing: border-box;text-align: center;}#sk-container-id-1 label.sk-toggleable__label-arrow:before {content: \"▸\";float: left;margin-right: 0.25em;color: #696969;}#sk-container-id-1 label.sk-toggleable__label-arrow:hover:before {color: black;}#sk-container-id-1 div.sk-estimator:hover label.sk-toggleable__label-arrow:before {color: black;}#sk-container-id-1 div.sk-toggleable__content {max-height: 0;max-width: 0;overflow: hidden;text-align: left;background-color: #f0f8ff;}#sk-container-id-1 div.sk-toggleable__content pre {margin: 0.2em;color: black;border-radius: 0.25em;background-color: #f0f8ff;}#sk-container-id-1 input.sk-toggleable__control:checked~div.sk-toggleable__content {max-height: 200px;max-width: 100%;overflow: auto;}#sk-container-id-1 input.sk-toggleable__control:checked~label.sk-toggleable__label-arrow:before {content: \"▾\";}#sk-container-id-1 div.sk-estimator input.sk-toggleable__control:checked~label.sk-toggleable__label {background-color: #d4ebff;}#sk-container-id-1 div.sk-label input.sk-toggleable__control:checked~label.sk-toggleable__label {background-color: #d4ebff;}#sk-container-id-1 input.sk-hidden--visually {border: 0;clip: rect(1px 1px 1px 1px);clip: rect(1px, 1px, 1px, 1px);height: 1px;margin: -1px;overflow: hidden;padding: 0;position: absolute;width: 1px;}#sk-container-id-1 div.sk-estimator {font-family: monospace;background-color: #f0f8ff;border: 1px dotted black;border-radius: 0.25em;box-sizing: border-box;margin-bottom: 0.5em;}#sk-container-id-1 div.sk-estimator:hover {background-color: #d4ebff;}#sk-container-id-1 div.sk-parallel-item::after {content: \"\";width: 100%;border-bottom: 1px solid gray;flex-grow: 1;}#sk-container-id-1 div.sk-label:hover label.sk-toggleable__label {background-color: #d4ebff;}#sk-container-id-1 div.sk-serial::before {content: \"\";position: absolute;border-left: 1px solid gray;box-sizing: border-box;top: 0;bottom: 0;left: 50%;z-index: 0;}#sk-container-id-1 div.sk-serial {display: flex;flex-direction: column;align-items: center;background-color: white;padding-right: 0.2em;padding-left: 0.2em;position: relative;}#sk-container-id-1 div.sk-item {position: relative;z-index: 1;}#sk-container-id-1 div.sk-parallel {display: flex;align-items: stretch;justify-content: center;background-color: white;position: relative;}#sk-container-id-1 div.sk-item::before, #sk-container-id-1 div.sk-parallel-item::before {content: \"\";position: absolute;border-left: 1px solid gray;box-sizing: border-box;top: 0;bottom: 0;left: 50%;z-index: -1;}#sk-container-id-1 div.sk-parallel-item {display: flex;flex-direction: column;z-index: 1;position: relative;background-color: white;}#sk-container-id-1 div.sk-parallel-item:first-child::after {align-self: flex-end;width: 50%;}#sk-container-id-1 div.sk-parallel-item:last-child::after {align-self: flex-start;width: 50%;}#sk-container-id-1 div.sk-parallel-item:only-child::after {width: 0;}#sk-container-id-1 div.sk-dashed-wrapped {border: 1px dashed gray;margin: 0 0.4em 0.5em 0.4em;box-sizing: border-box;padding-bottom: 0.4em;background-color: white;}#sk-container-id-1 div.sk-label label {font-family: monospace;font-weight: bold;display: inline-block;line-height: 1.2em;}#sk-container-id-1 div.sk-label-container {text-align: center;}#sk-container-id-1 div.sk-container {/* jupyter's `normalize.less` sets `[hidden] { display: none; }` but bootstrap.min.css set `[hidden] { display: none !important; }` so we also need the `!important` here to be able to override the default hidden behavior on the sphinx rendered scikit-learn.org. See: https://github.com/scikit-learn/scikit-learn/issues/21755 */display: inline-block !important;position: relative;}#sk-container-id-1 div.sk-text-repr-fallback {display: none;}</style><div id=\"sk-container-id-1\" class=\"sk-top-container\"><div class=\"sk-text-repr-fallback\"><pre>GaussianNB()</pre><b>In a Jupyter environment, please rerun this cell to show the HTML representation or trust the notebook. <br />On GitHub, the HTML representation is unable to render, please try loading this page with nbviewer.org.</b></div><div class=\"sk-container\" hidden><div class=\"sk-item\"><div class=\"sk-estimator sk-toggleable\"><input class=\"sk-toggleable__control sk-hidden--visually\" id=\"sk-estimator-id-1\" type=\"checkbox\" checked><label for=\"sk-estimator-id-1\" class=\"sk-toggleable__label sk-toggleable__label-arrow\">GaussianNB</label><div class=\"sk-toggleable__content\"><pre>GaussianNB()</pre></div></div></div></div></div>"
            ],
            "text/plain": [
              "GaussianNB()"
            ]
          },
          "execution_count": 35,
          "metadata": {},
          "output_type": "execute_result"
        }
      ],
      "source": [
        "gnb = GaussianNB()\n",
        "gnb.fit(X_train, y_train)\n",
        "\n",
        "gnb_pred = gnb.predict(X_test)\n",
        "gnb_probs = gnb.predict_proba(X_test)[:, 1]"
      ]
    },
    {
      "cell_type": "code",
      "execution_count": 36,
      "metadata": {
        "colab": {
          "base_uri": "https://localhost:8080/",
          "height": 410
        },
        "id": "JOrpLl31VlEW",
        "outputId": "ae97dcb1-476a-4f78-ba81-f6880d78e805"
      },
      "outputs": [
        {
          "data": {
            "image/png": "[encoded data removed]",
            "text/plain": [
              "<Figure size 500x300 with 2 Axes>"
            ]
          },
          "metadata": {},
          "output_type": "display_data"
        },
        {
          "data": {
            "text/html": [
              "<div>\n",
              "<style scoped>\n",
              "    .dataframe tbody tr th:only-of-type {\n",
              "        vertical-align: middle;\n",
              "    }\n",
              "\n",
              "    .dataframe tbody tr th {\n",
              "        vertical-align: top;\n",
              "    }\n",
              "\n",
              "    .dataframe thead th {\n",
              "        text-align: right;\n",
              "    }\n",
              "</style>\n",
              "<table border=\"1\" class=\"dataframe\">\n",
              "  <thead>\n",
              "    <tr style=\"text-align: right;\">\n",
              "      <th></th>\n",
              "      <th>Sensitivity</th>\n",
              "      <th>Specificity</th>\n",
              "      <th>G Mean</th>\n",
              "      <th>MCC</th>\n",
              "    </tr>\n",
              "  </thead>\n",
              "  <tbody>\n",
              "    <tr>\n",
              "      <th>GNB</th>\n",
              "      <td>0.539446</td>\n",
              "      <td>0.899649</td>\n",
              "      <td>0.696643</td>\n",
              "      <td>0.424486</td>\n",
              "    </tr>\n",
              "  </tbody>\n",
              "</table>\n",
              "</div>"
            ],
            "text/plain": [
              "     Sensitivity  Specificity    G Mean       MCC\n",
              "GNB     0.539446     0.899649  0.696643  0.424486"
            ]
          },
          "execution_count": 36,
          "metadata": {},
          "output_type": "execute_result"
        }
      ],
      "source": [
        "metrics_report('GNB', y_test, gnb_pred)"
      ]
    },
    {
      "cell_type": "markdown",
      "metadata": {
        "id": "sl5tdFnZTlQu"
      },
      "source": [
        "**Модель 1: GaussianNB**\n",
        "\n",
        "Метрики G-Mean (0.6966) и MCC (0.4245) указывают на среднее качество классификатора Gaussian Naïve Bayes. Анализ матрицы ошибок показывает, что довольно низкие показатели агрегированных метрик получаются из-за недостаточной способности модели определять объекты положительного (миноритарного) класса.\n",
        "\n",
        "GaussianNB с параметрами по умолчанию правильно классифицирует только 53.94% случаев, когда сессия пользователя завершается покупкой, и ошибочно относит объекты положительного класса к отрицательному в 46.06% случаев.\n",
        "\n",
        "Модель эффективно справляется с классификацией доминирующего отрицательного класса: она дает 89.96% верных ответов и ошибается в 10.04% предсказаний.\n",
        "\n",
        "Количество ложноположительных ответов превышает количество верно классифицированных объектов положительного класса, что может свидетельствовать о низкой способности модели различать классы между собой."
      ]
    },
    {
      "cell_type": "markdown",
      "metadata": {
        "id": "taXH_T0AJBfH"
      },
      "source": [
        "### KNN"
      ]
    },
    {
      "cell_type": "code",
      "execution_count": 37,
      "metadata": {
        "colab": {
          "base_uri": "https://localhost:8080/",
          "height": 74
        },
        "id": "0lqPqC2qI5xl",
        "outputId": "1b80cad7-0ed1-464f-c5ed-11b8915945bc"
      },
      "outputs": [
        {
          "data": {
            "text/html": [
              "<style>#sk-container-id-2 {color: black;}#sk-container-id-2 pre{padding: 0;}#sk-container-id-2 div.sk-toggleable {background-color: white;}#sk-container-id-2 label.sk-toggleable__label {cursor: pointer;display: block;width: 100%;margin-bottom: 0;padding: 0.3em;box-sizing: border-box;text-align: center;}#sk-container-id-2 label.sk-toggleable__label-arrow:before {content: \"▸\";float: left;margin-right: 0.25em;color: #696969;}#sk-container-id-2 label.sk-toggleable__label-arrow:hover:before {color: black;}#sk-container-id-2 div.sk-estimator:hover label.sk-toggleable__label-arrow:before {color: black;}#sk-container-id-2 div.sk-toggleable__content {max-height: 0;max-width: 0;overflow: hidden;text-align: left;background-color: #f0f8ff;}#sk-container-id-2 div.sk-toggleable__content pre {margin: 0.2em;color: black;border-radius: 0.25em;background-color: #f0f8ff;}#sk-container-id-2 input.sk-toggleable__control:checked~div.sk-toggleable__content {max-height: 200px;max-width: 100%;overflow: auto;}#sk-container-id-2 input.sk-toggleable__control:checked~label.sk-toggleable__label-arrow:before {content: \"▾\";}#sk-container-id-2 div.sk-estimator input.sk-toggleable__control:checked~label.sk-toggleable__label {background-color: #d4ebff;}#sk-container-id-2 div.sk-label input.sk-toggleable__control:checked~label.sk-toggleable__label {background-color: #d4ebff;}#sk-container-id-2 input.sk-hidden--visually {border: 0;clip: rect(1px 1px 1px 1px);clip: rect(1px, 1px, 1px, 1px);height: 1px;margin: -1px;overflow: hidden;padding: 0;position: absolute;width: 1px;}#sk-container-id-2 div.sk-estimator {font-family: monospace;background-color: #f0f8ff;border: 1px dotted black;border-radius: 0.25em;box-sizing: border-box;margin-bottom: 0.5em;}#sk-container-id-2 div.sk-estimator:hover {background-color: #d4ebff;}#sk-container-id-2 div.sk-parallel-item::after {content: \"\";width: 100%;border-bottom: 1px solid gray;flex-grow: 1;}#sk-container-id-2 div.sk-label:hover label.sk-toggleable__label {background-color: #d4ebff;}#sk-container-id-2 div.sk-serial::before {content: \"\";position: absolute;border-left: 1px solid gray;box-sizing: border-box;top: 0;bottom: 0;left: 50%;z-index: 0;}#sk-container-id-2 div.sk-serial {display: flex;flex-direction: column;align-items: center;background-color: white;padding-right: 0.2em;padding-left: 0.2em;position: relative;}#sk-container-id-2 div.sk-item {position: relative;z-index: 1;}#sk-container-id-2 div.sk-parallel {display: flex;align-items: stretch;justify-content: center;background-color: white;position: relative;}#sk-container-id-2 div.sk-item::before, #sk-container-id-2 div.sk-parallel-item::before {content: \"\";position: absolute;border-left: 1px solid gray;box-sizing: border-box;top: 0;bottom: 0;left: 50%;z-index: -1;}#sk-container-id-2 div.sk-parallel-item {display: flex;flex-direction: column;z-index: 1;position: relative;background-color: white;}#sk-container-id-2 div.sk-parallel-item:first-child::after {align-self: flex-end;width: 50%;}#sk-container-id-2 div.sk-parallel-item:last-child::after {align-self: flex-start;width: 50%;}#sk-container-id-2 div.sk-parallel-item:only-child::after {width: 0;}#sk-container-id-2 div.sk-dashed-wrapped {border: 1px dashed gray;margin: 0 0.4em 0.5em 0.4em;box-sizing: border-box;padding-bottom: 0.4em;background-color: white;}#sk-container-id-2 div.sk-label label {font-family: monospace;font-weight: bold;display: inline-block;line-height: 1.2em;}#sk-container-id-2 div.sk-label-container {text-align: center;}#sk-container-id-2 div.sk-container {/* jupyter's `normalize.less` sets `[hidden] { display: none; }` but bootstrap.min.css set `[hidden] { display: none !important; }` so we also need the `!important` here to be able to override the default hidden behavior on the sphinx rendered scikit-learn.org. See: https://github.com/scikit-learn/scikit-learn/issues/21755 */display: inline-block !important;position: relative;}#sk-container-id-2 div.sk-text-repr-fallback {display: none;}</style><div id=\"sk-container-id-2\" class=\"sk-top-container\"><div class=\"sk-text-repr-fallback\"><pre>KNeighborsClassifier()</pre><b>In a Jupyter environment, please rerun this cell to show the HTML representation or trust the notebook. <br />On GitHub, the HTML representation is unable to render, please try loading this page with nbviewer.org.</b></div><div class=\"sk-container\" hidden><div class=\"sk-item\"><div class=\"sk-estimator sk-toggleable\"><input class=\"sk-toggleable__control sk-hidden--visually\" id=\"sk-estimator-id-2\" type=\"checkbox\" checked><label for=\"sk-estimator-id-2\" class=\"sk-toggleable__label sk-toggleable__label-arrow\">KNeighborsClassifier</label><div class=\"sk-toggleable__content\"><pre>KNeighborsClassifier()</pre></div></div></div></div></div>"
            ],
            "text/plain": [
              "KNeighborsClassifier()"
            ]
          },
          "execution_count": 37,
          "metadata": {},
          "output_type": "execute_result"
        }
      ],
      "source": [
        "knn_cl = KNeighborsClassifier()\n",
        "knn_cl.fit(X_train_scaled, y_train)\n",
        "\n",
        "knn_probs = knn_cl.predict_proba(X_test_scaled)[:, 1]\n",
        "knn_pred = knn_cl.predict(X_test_scaled)"
      ]
    },
    {
      "cell_type": "code",
      "execution_count": 38,
      "metadata": {
        "colab": {
          "base_uri": "https://localhost:8080/",
          "height": 410
        },
        "id": "8HbJNWw-bIjT",
        "outputId": "4cdd57af-bd41-4b82-b3f4-2481c4969a04"
      },
      "outputs": [
        {
          "data": {
            "image/png": "[encoded data removed]",
            "text/plain": [
              "<Figure size 500x300 with 2 Axes>"
            ]
          },
          "metadata": {},
          "output_type": "display_data"
        },
        {
          "data": {
            "text/html": [
              "<div>\n",
              "<style scoped>\n",
              "    .dataframe tbody tr th:only-of-type {\n",
              "        vertical-align: middle;\n",
              "    }\n",
              "\n",
              "    .dataframe tbody tr th {\n",
              "        vertical-align: top;\n",
              "    }\n",
              "\n",
              "    .dataframe thead th {\n",
              "        text-align: right;\n",
              "    }\n",
              "</style>\n",
              "<table border=\"1\" class=\"dataframe\">\n",
              "  <thead>\n",
              "    <tr style=\"text-align: right;\">\n",
              "      <th></th>\n",
              "      <th>Sensitivity</th>\n",
              "      <th>Specificity</th>\n",
              "      <th>G Mean</th>\n",
              "      <th>MCC</th>\n",
              "    </tr>\n",
              "  </thead>\n",
              "  <tbody>\n",
              "    <tr>\n",
              "      <th>kNN</th>\n",
              "      <td>0.533049</td>\n",
              "      <td>0.945724</td>\n",
              "      <td>0.710012</td>\n",
              "      <td>0.517681</td>\n",
              "    </tr>\n",
              "  </tbody>\n",
              "</table>\n",
              "</div>"
            ],
            "text/plain": [
              "     Sensitivity  Specificity    G Mean       MCC\n",
              "kNN     0.533049     0.945724  0.710012  0.517681"
            ]
          },
          "execution_count": 38,
          "metadata": {},
          "output_type": "execute_result"
        }
      ],
      "source": [
        "metrics_report('kNN', y_test, knn_pred)"
      ]
    },
    {
      "cell_type": "markdown",
      "metadata": {
        "id": "knTcd8OcLWTQ"
      },
      "source": [
        "**Модель 2: kNN**\n",
        "\n",
        "По оценкам общей производительности базовая модель kNN показала лучшее качество по сравнению с GaussianNB: G Mean составил 0.71, а MCC — 0.5177.\n",
        "\n",
        "Улучшение показателей интегральных метрик объясняется снижением числа ложноположительных ошибок. Модель kNN верно определяет 94.57% сессий, по завершении которых пользователь ничего не купит.\n",
        "\n",
        "Однако по показателю Sensitivity, который отражает способность модели классифицировать объекты из менее представленного класса, kNN показывает результат хуже, чем GaussianNB, и ошибается в 46,7% ответов."
      ]
    },
    {
      "cell_type": "markdown",
      "metadata": {
        "id": "O1Pe46KXOGau"
      },
      "source": [
        "### Логистическая регрессия"
      ]
    },
    {
      "cell_type": "code",
      "execution_count": 39,
      "metadata": {
        "colab": {
          "base_uri": "https://localhost:8080/",
          "height": 196
        },
        "id": "9YBih-DlONz8",
        "outputId": "9c9ba925-2b4f-4bda-cc76-c9a3527f2b6c"
      },
      "outputs": [
        {
          "name": "stderr",
          "output_type": "stream",
          "text": [
            "c:\\Users\\HP\\AppData\\Local\\Programs\\Python\\Python310\\lib\\site-packages\\sklearn\\linear_model\\_logistic.py:460: ConvergenceWarning: lbfgs failed to converge (status=1):\n",
            "STOP: TOTAL NO. of ITERATIONS REACHED LIMIT.\n",
            "\n",
            "Increase the number of iterations (max_iter) or scale the data as shown in:\n",
            "    https://scikit-learn.org/stable/modules/preprocessing.html\n",
            "Please also refer to the documentation for alternative solver options:\n",
            "    https://scikit-learn.org/stable/modules/linear_model.html#logistic-regression\n"
          ]
        },
        {
          "data": {
            "text/html": [
              "<style>#sk-container-id-3 {color: black;}#sk-container-id-3 pre{padding: 0;}#sk-container-id-3 div.sk-toggleable {background-color: white;}#sk-container-id-3 label.sk-toggleable__label {cursor: pointer;display: block;width: 100%;margin-bottom: 0;padding: 0.3em;box-sizing: border-box;text-align: center;}#sk-container-id-3 label.sk-toggleable__label-arrow:before {content: \"▸\";float: left;margin-right: 0.25em;color: #696969;}#sk-container-id-3 label.sk-toggleable__label-arrow:hover:before {color: black;}#sk-container-id-3 div.sk-estimator:hover label.sk-toggleable__label-arrow:before {color: black;}#sk-container-id-3 div.sk-toggleable__content {max-height: 0;max-width: 0;overflow: hidden;text-align: left;background-color: #f0f8ff;}#sk-container-id-3 div.sk-toggleable__content pre {margin: 0.2em;color: black;border-radius: 0.25em;background-color: #f0f8ff;}#sk-container-id-3 input.sk-toggleable__control:checked~div.sk-toggleable__content {max-height: 200px;max-width: 100%;overflow: auto;}#sk-container-id-3 input.sk-toggleable__control:checked~label.sk-toggleable__label-arrow:before {content: \"▾\";}#sk-container-id-3 div.sk-estimator input.sk-toggleable__control:checked~label.sk-toggleable__label {background-color: #d4ebff;}#sk-container-id-3 div.sk-label input.sk-toggleable__control:checked~label.sk-toggleable__label {background-color: #d4ebff;}#sk-container-id-3 input.sk-hidden--visually {border: 0;clip: rect(1px 1px 1px 1px);clip: rect(1px, 1px, 1px, 1px);height: 1px;margin: -1px;overflow: hidden;padding: 0;position: absolute;width: 1px;}#sk-container-id-3 div.sk-estimator {font-family: monospace;background-color: #f0f8ff;border: 1px dotted black;border-radius: 0.25em;box-sizing: border-box;margin-bottom: 0.5em;}#sk-container-id-3 div.sk-estimator:hover {background-color: #d4ebff;}#sk-container-id-3 div.sk-parallel-item::after {content: \"\";width: 100%;border-bottom: 1px solid gray;flex-grow: 1;}#sk-container-id-3 div.sk-label:hover label.sk-toggleable__label {background-color: #d4ebff;}#sk-container-id-3 div.sk-serial::before {content: \"\";position: absolute;border-left: 1px solid gray;box-sizing: border-box;top: 0;bottom: 0;left: 50%;z-index: 0;}#sk-container-id-3 div.sk-serial {display: flex;flex-direction: column;align-items: center;background-color: white;padding-right: 0.2em;padding-left: 0.2em;position: relative;}#sk-container-id-3 div.sk-item {position: relative;z-index: 1;}#sk-container-id-3 div.sk-parallel {display: flex;align-items: stretch;justify-content: center;background-color: white;position: relative;}#sk-container-id-3 div.sk-item::before, #sk-container-id-3 div.sk-parallel-item::before {content: \"\";position: absolute;border-left: 1px solid gray;box-sizing: border-box;top: 0;bottom: 0;left: 50%;z-index: -1;}#sk-container-id-3 div.sk-parallel-item {display: flex;flex-direction: column;z-index: 1;position: relative;background-color: white;}#sk-container-id-3 div.sk-parallel-item:first-child::after {align-self: flex-end;width: 50%;}#sk-container-id-3 div.sk-parallel-item:last-child::after {align-self: flex-start;width: 50%;}#sk-container-id-3 div.sk-parallel-item:only-child::after {width: 0;}#sk-container-id-3 div.sk-dashed-wrapped {border: 1px dashed gray;margin: 0 0.4em 0.5em 0.4em;box-sizing: border-box;padding-bottom: 0.4em;background-color: white;}#sk-container-id-3 div.sk-label label {font-family: monospace;font-weight: bold;display: inline-block;line-height: 1.2em;}#sk-container-id-3 div.sk-label-container {text-align: center;}#sk-container-id-3 div.sk-container {/* jupyter's `normalize.less` sets `[hidden] { display: none; }` but bootstrap.min.css set `[hidden] { display: none !important; }` so we also need the `!important` here to be able to override the default hidden behavior on the sphinx rendered scikit-learn.org. See: https://github.com/scikit-learn/scikit-learn/issues/21755 */display: inline-block !important;position: relative;}#sk-container-id-3 div.sk-text-repr-fallback {display: none;}</style><div id=\"sk-container-id-3\" class=\"sk-top-container\"><div class=\"sk-text-repr-fallback\"><pre>LogisticRegression()</pre><b>In a Jupyter environment, please rerun this cell to show the HTML representation or trust the notebook. <br />On GitHub, the HTML representation is unable to render, please try loading this page with nbviewer.org.</b></div><div class=\"sk-container\" hidden><div class=\"sk-item\"><div class=\"sk-estimator sk-toggleable\"><input class=\"sk-toggleable__control sk-hidden--visually\" id=\"sk-estimator-id-3\" type=\"checkbox\" checked><label for=\"sk-estimator-id-3\" class=\"sk-toggleable__label sk-toggleable__label-arrow\">LogisticRegression</label><div class=\"sk-toggleable__content\"><pre>LogisticRegression()</pre></div></div></div></div></div>"
            ],
            "text/plain": [
              "LogisticRegression()"
            ]
          },
          "execution_count": 39,
          "metadata": {},
          "output_type": "execute_result"
        }
      ],
      "source": [
        "lr = LogisticRegression()\n",
        "lr.fit(X_train, y_train)\n",
        "\n",
        "lr_probs = lr.predict_proba(X_test)[:, 1]\n",
        "lr_pred = lr.predict(X_test)"
      ]
    },
    {
      "cell_type": "code",
      "execution_count": 40,
      "metadata": {
        "colab": {
          "base_uri": "https://localhost:8080/",
          "height": 410
        },
        "id": "Pb7CIbbQbTyL",
        "outputId": "6176fd49-8cda-4ee4-ea7d-9859f6a85a79"
      },
      "outputs": [
        {
          "data": {
            "image/png": "[encoded data removed]",
            "text/plain": [
              "<Figure size 500x300 with 2 Axes>"
            ]
          },
          "metadata": {},
          "output_type": "display_data"
        },
        {
          "data": {
            "text/html": [
              "<div>\n",
              "<style scoped>\n",
              "    .dataframe tbody tr th:only-of-type {\n",
              "        vertical-align: middle;\n",
              "    }\n",
              "\n",
              "    .dataframe tbody tr th {\n",
              "        vertical-align: top;\n",
              "    }\n",
              "\n",
              "    .dataframe thead th {\n",
              "        text-align: right;\n",
              "    }\n",
              "</style>\n",
              "<table border=\"1\" class=\"dataframe\">\n",
              "  <thead>\n",
              "    <tr style=\"text-align: right;\">\n",
              "      <th></th>\n",
              "      <th>Sensitivity</th>\n",
              "      <th>Specificity</th>\n",
              "      <th>G Mean</th>\n",
              "      <th>MCC</th>\n",
              "    </tr>\n",
              "  </thead>\n",
              "  <tbody>\n",
              "    <tr>\n",
              "      <th>LR</th>\n",
              "      <td>0.371002</td>\n",
              "      <td>0.974229</td>\n",
              "      <td>0.6012</td>\n",
              "      <td>0.462374</td>\n",
              "    </tr>\n",
              "  </tbody>\n",
              "</table>\n",
              "</div>"
            ],
            "text/plain": [
              "    Sensitivity  Specificity  G Mean       MCC\n",
              "LR     0.371002     0.974229  0.6012  0.462374"
            ]
          },
          "execution_count": 40,
          "metadata": {},
          "output_type": "execute_result"
        }
      ],
      "source": [
        "metrics_report('LR', y_test, lr_pred)"
      ]
    },
    {
      "cell_type": "markdown",
      "metadata": {
        "id": "Qm23qMUZRCkX"
      },
      "source": [
        "**Модель 3: Логистическая регрессия**\n",
        "\n",
        "По общим метрикам модель логистической регрессии показывает среднее качество в общем и по сравнению с предыдущими моделями: G Mean — 0.6012 и MCC — 0.4624.\n",
        "\n",
        "Обобщенные метрики приближают логистическую регрессию к GaussianNB, при этом значение коэффициента корреляции Мэттьюса выше у логистической регрессии, а значение G Mean выше у GaussianNB.\n",
        "\n",
        "Матрица ошибок показывает, что сумма ложноположительныхи ложноотрицательных ответов у логистической регрессии меньше, чем у GaussianNB (на 112 ошибок). Это достигается за счет того, что модель мало ошибавется на объектах преобладающего отрицательного класса модель (в 2.58% случаев), и в 97.42% случаев точно определяет, что покупки не будет. Уменьшение общего числа ошибок дает прирост по показателю MCC по сравнению с GaussianNB.\n",
        "\n",
        "Однако модель логистической регрессии с параметрами по умолчанию не справляется с корректной классификацией объектов миноритарного (положительного) класса на сильно несбалансированных данных. Для большинства объектов положительного класса (68.9%) модель дает ошибочный ответ, а верно классифицирует только 37.1% объектов. Из-за низкого показателя Sensitivity, несмотря на увеличение Specificity, G Mean у логистической регрессии оказывается ниже, чем у GaussianNB.\n"
      ]
    },
    {
      "cell_type": "markdown",
      "metadata": {
        "id": "SAjsPxOvvqjH"
      },
      "source": [
        "### Random Forest"
      ]
    },
    {
      "cell_type": "code",
      "execution_count": 41,
      "metadata": {
        "colab": {
          "base_uri": "https://localhost:8080/",
          "height": 74
        },
        "id": "dvCB1Ed3wMB-",
        "outputId": "e0f7ebd0-ee70-4761-d07e-d4b2bde67dfe"
      },
      "outputs": [
        {
          "data": {
            "text/html": [
              "<style>#sk-container-id-4 {color: black;}#sk-container-id-4 pre{padding: 0;}#sk-container-id-4 div.sk-toggleable {background-color: white;}#sk-container-id-4 label.sk-toggleable__label {cursor: pointer;display: block;width: 100%;margin-bottom: 0;padding: 0.3em;box-sizing: border-box;text-align: center;}#sk-container-id-4 label.sk-toggleable__label-arrow:before {content: \"▸\";float: left;margin-right: 0.25em;color: #696969;}#sk-container-id-4 label.sk-toggleable__label-arrow:hover:before {color: black;}#sk-container-id-4 div.sk-estimator:hover label.sk-toggleable__label-arrow:before {color: black;}#sk-container-id-4 div.sk-toggleable__content {max-height: 0;max-width: 0;overflow: hidden;text-align: left;background-color: #f0f8ff;}#sk-container-id-4 div.sk-toggleable__content pre {margin: 0.2em;color: black;border-radius: 0.25em;background-color: #f0f8ff;}#sk-container-id-4 input.sk-toggleable__control:checked~div.sk-toggleable__content {max-height: 200px;max-width: 100%;overflow: auto;}#sk-container-id-4 input.sk-toggleable__control:checked~label.sk-toggleable__label-arrow:before {content: \"▾\";}#sk-container-id-4 div.sk-estimator input.sk-toggleable__control:checked~label.sk-toggleable__label {background-color: #d4ebff;}#sk-container-id-4 div.sk-label input.sk-toggleable__control:checked~label.sk-toggleable__label {background-color: #d4ebff;}#sk-container-id-4 input.sk-hidden--visually {border: 0;clip: rect(1px 1px 1px 1px);clip: rect(1px, 1px, 1px, 1px);height: 1px;margin: -1px;overflow: hidden;padding: 0;position: absolute;width: 1px;}#sk-container-id-4 div.sk-estimator {font-family: monospace;background-color: #f0f8ff;border: 1px dotted black;border-radius: 0.25em;box-sizing: border-box;margin-bottom: 0.5em;}#sk-container-id-4 div.sk-estimator:hover {background-color: #d4ebff;}#sk-container-id-4 div.sk-parallel-item::after {content: \"\";width: 100%;border-bottom: 1px solid gray;flex-grow: 1;}#sk-container-id-4 div.sk-label:hover label.sk-toggleable__label {background-color: #d4ebff;}#sk-container-id-4 div.sk-serial::before {content: \"\";position: absolute;border-left: 1px solid gray;box-sizing: border-box;top: 0;bottom: 0;left: 50%;z-index: 0;}#sk-container-id-4 div.sk-serial {display: flex;flex-direction: column;align-items: center;background-color: white;padding-right: 0.2em;padding-left: 0.2em;position: relative;}#sk-container-id-4 div.sk-item {position: relative;z-index: 1;}#sk-container-id-4 div.sk-parallel {display: flex;align-items: stretch;justify-content: center;background-color: white;position: relative;}#sk-container-id-4 div.sk-item::before, #sk-container-id-4 div.sk-parallel-item::before {content: \"\";position: absolute;border-left: 1px solid gray;box-sizing: border-box;top: 0;bottom: 0;left: 50%;z-index: -1;}#sk-container-id-4 div.sk-parallel-item {display: flex;flex-direction: column;z-index: 1;position: relative;background-color: white;}#sk-container-id-4 div.sk-parallel-item:first-child::after {align-self: flex-end;width: 50%;}#sk-container-id-4 div.sk-parallel-item:last-child::after {align-self: flex-start;width: 50%;}#sk-container-id-4 div.sk-parallel-item:only-child::after {width: 0;}#sk-container-id-4 div.sk-dashed-wrapped {border: 1px dashed gray;margin: 0 0.4em 0.5em 0.4em;box-sizing: border-box;padding-bottom: 0.4em;background-color: white;}#sk-container-id-4 div.sk-label label {font-family: monospace;font-weight: bold;display: inline-block;line-height: 1.2em;}#sk-container-id-4 div.sk-label-container {text-align: center;}#sk-container-id-4 div.sk-container {/* jupyter's `normalize.less` sets `[hidden] { display: none; }` but bootstrap.min.css set `[hidden] { display: none !important; }` so we also need the `!important` here to be able to override the default hidden behavior on the sphinx rendered scikit-learn.org. See: https://github.com/scikit-learn/scikit-learn/issues/21755 */display: inline-block !important;position: relative;}#sk-container-id-4 div.sk-text-repr-fallback {display: none;}</style><div id=\"sk-container-id-4\" class=\"sk-top-container\"><div class=\"sk-text-repr-fallback\"><pre>RandomForestClassifier(random_state=8)</pre><b>In a Jupyter environment, please rerun this cell to show the HTML representation or trust the notebook. <br />On GitHub, the HTML representation is unable to render, please try loading this page with nbviewer.org.</b></div><div class=\"sk-container\" hidden><div class=\"sk-item\"><div class=\"sk-estimator sk-toggleable\"><input class=\"sk-toggleable__control sk-hidden--visually\" id=\"sk-estimator-id-4\" type=\"checkbox\" checked><label for=\"sk-estimator-id-4\" class=\"sk-toggleable__label sk-toggleable__label-arrow\">RandomForestClassifier</label><div class=\"sk-toggleable__content\"><pre>RandomForestClassifier(random_state=8)</pre></div></div></div></div></div>"
            ],
            "text/plain": [
              "RandomForestClassifier(random_state=8)"
            ]
          },
          "execution_count": 41,
          "metadata": {},
          "output_type": "execute_result"
        }
      ],
      "source": [
        "rf = RandomForestClassifier(random_state=8)\n",
        "rf.fit(X_train, y_train)\n",
        "\n",
        "rf_probs = rf.predict_proba(X_test)[:, 1]\n",
        "rf_pred = rf.predict(X_test)"
      ]
    },
    {
      "cell_type": "code",
      "execution_count": 42,
      "metadata": {
        "colab": {
          "base_uri": "https://localhost:8080/",
          "height": 410
        },
        "id": "o-iiX649bpql",
        "outputId": "e6c720f8-f6ab-4444-beaa-0fdc60c2e3a8"
      },
      "outputs": [
        {
          "data": {
            "image/png": "[encoded data removed]",
            "text/plain": [
              "<Figure size 500x300 with 2 Axes>"
            ]
          },
          "metadata": {},
          "output_type": "display_data"
        },
        {
          "data": {
            "text/html": [
              "<div>\n",
              "<style scoped>\n",
              "    .dataframe tbody tr th:only-of-type {\n",
              "        vertical-align: middle;\n",
              "    }\n",
              "\n",
              "    .dataframe tbody tr th {\n",
              "        vertical-align: top;\n",
              "    }\n",
              "\n",
              "    .dataframe thead th {\n",
              "        text-align: right;\n",
              "    }\n",
              "</style>\n",
              "<table border=\"1\" class=\"dataframe\">\n",
              "  <thead>\n",
              "    <tr style=\"text-align: right;\">\n",
              "      <th></th>\n",
              "      <th>Sensitivity</th>\n",
              "      <th>Specificity</th>\n",
              "      <th>G Mean</th>\n",
              "      <th>MCC</th>\n",
              "    </tr>\n",
              "  </thead>\n",
              "  <tbody>\n",
              "    <tr>\n",
              "      <th>RF</th>\n",
              "      <td>0.567164</td>\n",
              "      <td>0.95861</td>\n",
              "      <td>0.737353</td>\n",
              "      <td>0.579484</td>\n",
              "    </tr>\n",
              "  </tbody>\n",
              "</table>\n",
              "</div>"
            ],
            "text/plain": [
              "    Sensitivity  Specificity    G Mean       MCC\n",
              "RF     0.567164      0.95861  0.737353  0.579484"
            ]
          },
          "execution_count": 42,
          "metadata": {},
          "output_type": "execute_result"
        }
      ],
      "source": [
        "metrics_report('RF', y_test, rf_pred)"
      ]
    },
    {
      "cell_type": "markdown",
      "metadata": {
        "id": "ZSRB0XcjZaUe"
      },
      "source": [
        "**Модель 4: Random Forest**\n",
        "\n",
        "Среди всех моделей в данном эксперименте Random Forest показывает лучшее качество по всем анализируемым на текущем этапе показателям, за исключением Specificity (у RF — 95.86%, а у LR — 97.42%).\n",
        "\n",
        "Из проанализированных ранее моделей наиболее близкой к Random Forest является kNN. Значения метрик Random Forest превышают показатели классификатора kNN не более чем на 0.618 (разница по MCC). Модель Random Forest дает меньше как ложноположительных (на 33), так и ложноотрицательных ответов (на 16) по сравнению с kNN.\n",
        "\n",
        "Random Forest достигает высокого качества (95.86%) при классификации объектов из преобладающего негативного класса. Эффективность классификатора на положительных примерах умеренная, но более половины положительных объектов (56.72%) была классифицирована правильно."
      ]
    },
    {
      "cell_type": "markdown",
      "metadata": {
        "id": "4b_OuVZN-IDO"
      },
      "source": [
        "### Сравнение моделей"
      ]
    },
    {
      "cell_type": "code",
      "execution_count": 43,
      "metadata": {
        "colab": {
          "base_uri": "https://localhost:8080/",
          "height": 501
        },
        "id": "HKyclctol6qW",
        "outputId": "125ee4c3-7944-4b1c-bfaf-e824c32b7338"
      },
      "outputs": [
        {
          "data": {
            "image/png": "[encoded data removed]",
            "text/plain": [
              "<Figure size 700x500 with 1 Axes>"
            ]
          },
          "metadata": {},
          "output_type": "display_data"
        }
      ],
      "source": [
        "fpr_gnb, tpr_gnb, _ = roc_curve(y_test, gnb_probs)\n",
        "roc_auc_gnb = auc(fpr_gnb, tpr_gnb)\n",
        "fpr_knn, tpr_knn, _ = roc_curve(y_test, knn_probs)\n",
        "roc_auc_knn = auc(fpr_knn, tpr_knn)\n",
        "fpr_lr, tpr_lr, _ = roc_curve(y_test, lr_probs)\n",
        "roc_auc_lr = auc(fpr_lr, tpr_lr)\n",
        "fpr_rf, tpr_rf, _ = roc_curve(y_test, rf_probs)\n",
        "roc_auc_rf = auc(fpr_rf, tpr_rf)\n",
        "\n",
        "plt.figure(figsize=(7, 5))\n",
        "plt.plot(fpr_gnb, tpr_gnb, 'r', label='AUC GNB = %0.3f' % roc_auc_gnb)\n",
        "plt.plot(fpr_knn, tpr_knn, 'y', label='AUC KNN = %0.3f' % roc_auc_knn)\n",
        "plt.plot(fpr_lr, tpr_lr, 'g', label='AUC LR = %0.3f' % roc_auc_lr)\n",
        "plt.plot(fpr_rf, tpr_rf, 'b', label='AUC RF = %0.3f' % roc_auc_rf)\n",
        "plt.plot([0,1], [0,1], 'w--')\n",
        "\n",
        "plt.title('Reciever Operating Characteristic')\n",
        "plt.xlabel('False Positive Rate')\n",
        "plt.ylabel('True Positive Rate')\n",
        "plt.xlim([0, 1])\n",
        "plt.ylim([0, 1])\n",
        "plt.tight_layout()\n",
        "plt.legend(loc='lower right', prop={'size': 8});"
      ]
    },
    {
      "cell_type": "markdown",
      "metadata": {
        "id": "NBnhfRVEURSL"
      },
      "source": [
        "По визуализации ROC-кривых для каждой из моделей можно сказать, что модели Random Forest и логистическая регрессия показывают в общем лучшую производительность. Кривые этих классификаторов пересекаются в нескольких местах, и по графикам нельзя однозначно определить лучшую модель. Однако количественное значение AUC указывает на небольшое преимущество модели Random Forest."
      ]
    },
    {
      "cell_type": "markdown",
      "metadata": {
        "id": "y5rshBz2LCfq"
      },
      "source": [
        "**Выводы по итогам обучения моделей на числовых признаках с параметрами по умолчанию:**\n",
        "\n",
        "\n",
        "- На данном этапе модель **Random Forest** показала наиболее оптимальное соотношение верных и ошибочных ответов в двух классах и лучшие значения по интегральным метрикам.\n",
        "\n",
        "- Сильный дисбаланс классов с преобладанием объектов отрицательного класса в обучающих данных заметно повлиял на производительность всех четырех моделей. Это отражается в низких значения метрики Sensitivity. Лучших результатов по данной метрике достигла модель **Random Forest** (56.72%).\n",
        "\n",
        "- 3 из 4 базовых моделей смогли верно классифицировать более 50% объектов менее представленного в обучающей выборке положительного класса. Только модель **логистической регрессии** с параметрами по умолчанию в большинстве случаев (68.9%) классификации объектов положительного класса давала ошибочный ответ.\n",
        "\n",
        "- 3 из 4 моделей с параметрами по умолчанию дали верные ответы на более чем 90% объектах преобладающего отрицательного класса. Самый низкий показатель по этой метрике — 89.96% — у классификатора **GaussianNB**, самый высокий — 97.42% — у модели **логистической регрессии**."
      ]
    },
    {
      "cell_type": "markdown",
      "metadata": {
        "id": "Xz3dsYeESMaa"
      },
      "source": [
        "## 2. Подбор гиперпараметров\n",
        "\n",
        "Для каждой из рассматриваемых моделей используется метод GridSearch для подбора гиперпараметров, максимизирующих метрику `roc_auc`."
      ]
    },
    {
      "cell_type": "markdown",
      "metadata": {
        "id": "T98EpCWDUjC2"
      },
      "source": [
        "### Naïve Bayes Classifier\n",
        "\n",
        "\n",
        "Для модели GaussianNB настраивается гиперпараметр `var_smoothing`, который позволяет увеличить устойчивость к выбросам."
      ]
    },
    {
      "cell_type": "code",
      "execution_count": 44,
      "metadata": {
        "id": "mJ1v-PqoUpvU"
      },
      "outputs": [],
      "source": [
        "gnb_params = {\n",
        "    'var_smoothing': np.logspace(-9, 0, num=100)\n",
        "}"
      ]
    },
    {
      "cell_type": "code",
      "execution_count": 45,
      "metadata": {
        "colab": {
          "base_uri": "https://localhost:8080/",
          "height": 134
        },
        "id": "POGPQ7U6aP3Z",
        "outputId": "47c49bfa-688d-491b-99be-53e5e64abc05"
      },
      "outputs": [
        {
          "name": "stdout",
          "output_type": "stream",
          "text": [
            "Fitting 4 folds for each of 100 candidates, totalling 400 fits\n"
          ]
        },
        {
          "data": {
            "text/html": [
              "<style>#sk-container-id-5 {color: black;}#sk-container-id-5 pre{padding: 0;}#sk-container-id-5 div.sk-toggleable {background-color: white;}#sk-container-id-5 label.sk-toggleable__label {cursor: pointer;display: block;width: 100%;margin-bottom: 0;padding: 0.3em;box-sizing: border-box;text-align: center;}#sk-container-id-5 label.sk-toggleable__label-arrow:before {content: \"▸\";float: left;margin-right: 0.25em;color: #696969;}#sk-container-id-5 label.sk-toggleable__label-arrow:hover:before {color: black;}#sk-container-id-5 div.sk-estimator:hover label.sk-toggleable__label-arrow:before {color: black;}#sk-container-id-5 div.sk-toggleable__content {max-height: 0;max-width: 0;overflow: hidden;text-align: left;background-color: #f0f8ff;}#sk-container-id-5 div.sk-toggleable__content pre {margin: 0.2em;color: black;border-radius: 0.25em;background-color: #f0f8ff;}#sk-container-id-5 input.sk-toggleable__control:checked~div.sk-toggleable__content {max-height: 200px;max-width: 100%;overflow: auto;}#sk-container-id-5 input.sk-toggleable__control:checked~label.sk-toggleable__label-arrow:before {content: \"▾\";}#sk-container-id-5 div.sk-estimator input.sk-toggleable__control:checked~label.sk-toggleable__label {background-color: #d4ebff;}#sk-container-id-5 div.sk-label input.sk-toggleable__control:checked~label.sk-toggleable__label {background-color: #d4ebff;}#sk-container-id-5 input.sk-hidden--visually {border: 0;clip: rect(1px 1px 1px 1px);clip: rect(1px, 1px, 1px, 1px);height: 1px;margin: -1px;overflow: hidden;padding: 0;position: absolute;width: 1px;}#sk-container-id-5 div.sk-estimator {font-family: monospace;background-color: #f0f8ff;border: 1px dotted black;border-radius: 0.25em;box-sizing: border-box;margin-bottom: 0.5em;}#sk-container-id-5 div.sk-estimator:hover {background-color: #d4ebff;}#sk-container-id-5 div.sk-parallel-item::after {content: \"\";width: 100%;border-bottom: 1px solid gray;flex-grow: 1;}#sk-container-id-5 div.sk-label:hover label.sk-toggleable__label {background-color: #d4ebff;}#sk-container-id-5 div.sk-serial::before {content: \"\";position: absolute;border-left: 1px solid gray;box-sizing: border-box;top: 0;bottom: 0;left: 50%;z-index: 0;}#sk-container-id-5 div.sk-serial {display: flex;flex-direction: column;align-items: center;background-color: white;padding-right: 0.2em;padding-left: 0.2em;position: relative;}#sk-container-id-5 div.sk-item {position: relative;z-index: 1;}#sk-container-id-5 div.sk-parallel {display: flex;align-items: stretch;justify-content: center;background-color: white;position: relative;}#sk-container-id-5 div.sk-item::before, #sk-container-id-5 div.sk-parallel-item::before {content: \"\";position: absolute;border-left: 1px solid gray;box-sizing: border-box;top: 0;bottom: 0;left: 50%;z-index: -1;}#sk-container-id-5 div.sk-parallel-item {display: flex;flex-direction: column;z-index: 1;position: relative;background-color: white;}#sk-container-id-5 div.sk-parallel-item:first-child::after {align-self: flex-end;width: 50%;}#sk-container-id-5 div.sk-parallel-item:last-child::after {align-self: flex-start;width: 50%;}#sk-container-id-5 div.sk-parallel-item:only-child::after {width: 0;}#sk-container-id-5 div.sk-dashed-wrapped {border: 1px dashed gray;margin: 0 0.4em 0.5em 0.4em;box-sizing: border-box;padding-bottom: 0.4em;background-color: white;}#sk-container-id-5 div.sk-label label {font-family: monospace;font-weight: bold;display: inline-block;line-height: 1.2em;}#sk-container-id-5 div.sk-label-container {text-align: center;}#sk-container-id-5 div.sk-container {/* jupyter's `normalize.less` sets `[hidden] { display: none; }` but bootstrap.min.css set `[hidden] { display: none !important; }` so we also need the `!important` here to be able to override the default hidden behavior on the sphinx rendered scikit-learn.org. See: https://github.com/scikit-learn/scikit-learn/issues/21755 */display: inline-block !important;position: relative;}#sk-container-id-5 div.sk-text-repr-fallback {display: none;}</style><div id=\"sk-container-id-5\" class=\"sk-top-container\"><div class=\"sk-text-repr-fallback\"><pre>GridSearchCV(cv=4, estimator=GaussianNB(), n_jobs=-1,\n",
              "             param_grid={&#x27;var_smoothing&#x27;: array([1.00000000e-09, 1.23284674e-09, 1.51991108e-09, 1.87381742e-09,\n",
              "       2.31012970e-09, 2.84803587e-09, 3.51119173e-09, 4.32876128e-09,\n",
              "       5.33669923e-09, 6.57933225e-09, 8.11130831e-09, 1.00000000e-08,\n",
              "       1.23284674e-08, 1.51991108e-08, 1.87381742e-08, 2.31012970e-08,\n",
              "       2.84803587e-08, 3.5111917...\n",
              "       8.11130831e-03, 1.00000000e-02, 1.23284674e-02, 1.51991108e-02,\n",
              "       1.87381742e-02, 2.31012970e-02, 2.84803587e-02, 3.51119173e-02,\n",
              "       4.32876128e-02, 5.33669923e-02, 6.57933225e-02, 8.11130831e-02,\n",
              "       1.00000000e-01, 1.23284674e-01, 1.51991108e-01, 1.87381742e-01,\n",
              "       2.31012970e-01, 2.84803587e-01, 3.51119173e-01, 4.32876128e-01,\n",
              "       5.33669923e-01, 6.57933225e-01, 8.11130831e-01, 1.00000000e+00])},\n",
              "             scoring=&#x27;roc_auc&#x27;, verbose=2)</pre><b>In a Jupyter environment, please rerun this cell to show the HTML representation or trust the notebook. <br />On GitHub, the HTML representation is unable to render, please try loading this page with nbviewer.org.</b></div><div class=\"sk-container\" hidden><div class=\"sk-item sk-dashed-wrapped\"><div class=\"sk-label-container\"><div class=\"sk-label sk-toggleable\"><input class=\"sk-toggleable__control sk-hidden--visually\" id=\"sk-estimator-id-5\" type=\"checkbox\" ><label for=\"sk-estimator-id-5\" class=\"sk-toggleable__label sk-toggleable__label-arrow\">GridSearchCV</label><div class=\"sk-toggleable__content\"><pre>GridSearchCV(cv=4, estimator=GaussianNB(), n_jobs=-1,\n",
              "             param_grid={&#x27;var_smoothing&#x27;: array([1.00000000e-09, 1.23284674e-09, 1.51991108e-09, 1.87381742e-09,\n",
              "       2.31012970e-09, 2.84803587e-09, 3.51119173e-09, 4.32876128e-09,\n",
              "       5.33669923e-09, 6.57933225e-09, 8.11130831e-09, 1.00000000e-08,\n",
              "       1.23284674e-08, 1.51991108e-08, 1.87381742e-08, 2.31012970e-08,\n",
              "       2.84803587e-08, 3.5111917...\n",
              "       8.11130831e-03, 1.00000000e-02, 1.23284674e-02, 1.51991108e-02,\n",
              "       1.87381742e-02, 2.31012970e-02, 2.84803587e-02, 3.51119173e-02,\n",
              "       4.32876128e-02, 5.33669923e-02, 6.57933225e-02, 8.11130831e-02,\n",
              "       1.00000000e-01, 1.23284674e-01, 1.51991108e-01, 1.87381742e-01,\n",
              "       2.31012970e-01, 2.84803587e-01, 3.51119173e-01, 4.32876128e-01,\n",
              "       5.33669923e-01, 6.57933225e-01, 8.11130831e-01, 1.00000000e+00])},\n",
              "             scoring=&#x27;roc_auc&#x27;, verbose=2)</pre></div></div></div><div class=\"sk-parallel\"><div class=\"sk-parallel-item\"><div class=\"sk-item\"><div class=\"sk-label-container\"><div class=\"sk-label sk-toggleable\"><input class=\"sk-toggleable__control sk-hidden--visually\" id=\"sk-estimator-id-6\" type=\"checkbox\" ><label for=\"sk-estimator-id-6\" class=\"sk-toggleable__label sk-toggleable__label-arrow\">estimator: GaussianNB</label><div class=\"sk-toggleable__content\"><pre>GaussianNB()</pre></div></div></div><div class=\"sk-serial\"><div class=\"sk-item\"><div class=\"sk-estimator sk-toggleable\"><input class=\"sk-toggleable__control sk-hidden--visually\" id=\"sk-estimator-id-7\" type=\"checkbox\" ><label for=\"sk-estimator-id-7\" class=\"sk-toggleable__label sk-toggleable__label-arrow\">GaussianNB</label><div class=\"sk-toggleable__content\"><pre>GaussianNB()</pre></div></div></div></div></div></div></div></div></div></div>"
            ],
            "text/plain": [
              "GridSearchCV(cv=4, estimator=GaussianNB(), n_jobs=-1,\n",
              "             param_grid={'var_smoothing': array([1.00000000e-09, 1.23284674e-09, 1.51991108e-09, 1.87381742e-09,\n",
              "       2.31012970e-09, 2.84803587e-09, 3.51119173e-09, 4.32876128e-09,\n",
              "       5.33669923e-09, 6.57933225e-09, 8.11130831e-09, 1.00000000e-08,\n",
              "       1.23284674e-08, 1.51991108e-08, 1.87381742e-08, 2.31012970e-08,\n",
              "       2.84803587e-08, 3.5111917...\n",
              "       8.11130831e-03, 1.00000000e-02, 1.23284674e-02, 1.51991108e-02,\n",
              "       1.87381742e-02, 2.31012970e-02, 2.84803587e-02, 3.51119173e-02,\n",
              "       4.32876128e-02, 5.33669923e-02, 6.57933225e-02, 8.11130831e-02,\n",
              "       1.00000000e-01, 1.23284674e-01, 1.51991108e-01, 1.87381742e-01,\n",
              "       2.31012970e-01, 2.84803587e-01, 3.51119173e-01, 4.32876128e-01,\n",
              "       5.33669923e-01, 6.57933225e-01, 8.11130831e-01, 1.00000000e+00])},\n",
              "             scoring='roc_auc', verbose=2)"
            ]
          },
          "execution_count": 45,
          "metadata": {},
          "output_type": "execute_result"
        }
      ],
      "source": [
        "gs_gnb = GridSearchCV(gnb, gnb_params, scoring='roc_auc', cv=4, n_jobs=-1, verbose=2)\n",
        "gs_gnb.fit(X_train, y_train)"
      ]
    },
    {
      "cell_type": "code",
      "execution_count": 46,
      "metadata": {
        "colab": {
          "base_uri": "https://localhost:8080/"
        },
        "id": "vJHp_Vr8aspB",
        "outputId": "8d7afbe7-d25e-4a4d-e51d-0992a8ec7a19"
      },
      "outputs": [
        {
          "name": "stdout",
          "output_type": "stream",
          "text": [
            "best score train: 0.8502132165229714\n",
            "best score test: 0.6974466930145391\n",
            "\n",
            "parameters:\n",
            "{'var_smoothing': 2.310129700083158e-06}\n"
          ]
        }
      ],
      "source": [
        "gs_gnb_probs = gs_gnb.best_estimator_.predict_proba(X_test)[:, 1]\n",
        "gs_gnb_pred = gs_gnb.best_estimator_.predict(X_test)\n",
        "\n",
        "print(f'best score train: {gs_gnb.best_score_}')\n",
        "print(f'best score test: {roc_auc_score(y_test, gs_gnb_pred)}\\n')\n",
        "print(f'parameters:\\n{gs_gnb.best_params_}')"
      ]
    },
    {
      "cell_type": "code",
      "execution_count": 47,
      "metadata": {
        "colab": {
          "base_uri": "https://localhost:8080/",
          "height": 410
        },
        "id": "pmvxTRZmdj0R",
        "outputId": "82f2419d-6444-4c86-fd1c-4560c4a7a68b"
      },
      "outputs": [
        {
          "data": {
            "image/png": "[encoded data removed]",
            "text/plain": [
              "<Figure size 500x300 with 2 Axes>"
            ]
          },
          "metadata": {},
          "output_type": "display_data"
        },
        {
          "data": {
            "text/html": [
              "<div>\n",
              "<style scoped>\n",
              "    .dataframe tbody tr th:only-of-type {\n",
              "        vertical-align: middle;\n",
              "    }\n",
              "\n",
              "    .dataframe tbody tr th {\n",
              "        vertical-align: top;\n",
              "    }\n",
              "\n",
              "    .dataframe thead th {\n",
              "        text-align: right;\n",
              "    }\n",
              "</style>\n",
              "<table border=\"1\" class=\"dataframe\">\n",
              "  <thead>\n",
              "    <tr style=\"text-align: right;\">\n",
              "      <th></th>\n",
              "      <th>Sensitivity</th>\n",
              "      <th>Specificity</th>\n",
              "      <th>G Mean</th>\n",
              "      <th>MCC</th>\n",
              "    </tr>\n",
              "  </thead>\n",
              "  <tbody>\n",
              "    <tr>\n",
              "      <th>GS GNB</th>\n",
              "      <td>0.469083</td>\n",
              "      <td>0.92581</td>\n",
              "      <td>0.659001</td>\n",
              "      <td>0.417569</td>\n",
              "    </tr>\n",
              "  </tbody>\n",
              "</table>\n",
              "</div>"
            ],
            "text/plain": [
              "        Sensitivity  Specificity    G Mean       MCC\n",
              "GS GNB     0.469083      0.92581  0.659001  0.417569"
            ]
          },
          "execution_count": 47,
          "metadata": {},
          "output_type": "execute_result"
        }
      ],
      "source": [
        "metrics_report('GS GNB', y_test, gs_gnb_pred)"
      ]
    },
    {
      "cell_type": "markdown",
      "metadata": {
        "id": "DQh0lDe_s0GX"
      },
      "source": [
        "**По сравнению с базовой моделью GaussianNB:**\n",
        "\n",
        "После подбора гиперпарметров снижается качество по обобщенным мерам G Mean (-0.0376) и MCC (-0.0069).\n",
        "\n",
        "Ухудшение общего качества обусловлено тем, что после настройки гиперпараметров модель GaussianNB чаще ошибавется на объектах миноритарного положительного класса (снижение на 7.06% по показателю Sensitivity). В то же время значение показателя Specificity увеличилось на 2.62%.\n",
        "\n",
        "Количество ложноположительных ответов сократилось. Но количество ложноотрицательных ответов увеличилось и стало превышать число правильно классифицированных объектов положительного класса."
      ]
    },
    {
      "cell_type": "markdown",
      "metadata": {
        "id": "Rl7X8uRLTE3n"
      },
      "source": [
        "### KNN\n",
        "\n",
        "Для модели kNN настраиваются гиперпараметры:\n",
        "\n",
        "- `n_neighbors`: количество учитываемых при классификации ближайших соседей;\n",
        "- `weights`: веса соседей (одинаковые для всех соседей или пропорциональные расстоянию до классифицируемого объекта);\n",
        "- `metric`: метрика расстояния для определения близости соседей."
      ]
    },
    {
      "cell_type": "code",
      "execution_count": 48,
      "metadata": {
        "id": "h4dGYIzBSruZ"
      },
      "outputs": [],
      "source": [
        "knn_params = {\n",
        "    'n_neighbors': np.arange(2, 20, 2),\n",
        "    'weights': ['uniform', 'distance'],\n",
        "    'metric': ['euclidean', 'manhattan']\n",
        "}"
      ]
    },
    {
      "cell_type": "code",
      "execution_count": 49,
      "metadata": {
        "colab": {
          "base_uri": "https://localhost:8080/",
          "height": 134
        },
        "id": "MyGonfJqTSHx",
        "outputId": "12d8718a-1599-44e1-dc18-ec49baa1d74f"
      },
      "outputs": [
        {
          "name": "stdout",
          "output_type": "stream",
          "text": [
            "Fitting 4 folds for each of 36 candidates, totalling 144 fits\n"
          ]
        },
        {
          "data": {
            "text/html": [
              "<style>#sk-container-id-6 {color: black;}#sk-container-id-6 pre{padding: 0;}#sk-container-id-6 div.sk-toggleable {background-color: white;}#sk-container-id-6 label.sk-toggleable__label {cursor: pointer;display: block;width: 100%;margin-bottom: 0;padding: 0.3em;box-sizing: border-box;text-align: center;}#sk-container-id-6 label.sk-toggleable__label-arrow:before {content: \"▸\";float: left;margin-right: 0.25em;color: #696969;}#sk-container-id-6 label.sk-toggleable__label-arrow:hover:before {color: black;}#sk-container-id-6 div.sk-estimator:hover label.sk-toggleable__label-arrow:before {color: black;}#sk-container-id-6 div.sk-toggleable__content {max-height: 0;max-width: 0;overflow: hidden;text-align: left;background-color: #f0f8ff;}#sk-container-id-6 div.sk-toggleable__content pre {margin: 0.2em;color: black;border-radius: 0.25em;background-color: #f0f8ff;}#sk-container-id-6 input.sk-toggleable__control:checked~div.sk-toggleable__content {max-height: 200px;max-width: 100%;overflow: auto;}#sk-container-id-6 input.sk-toggleable__control:checked~label.sk-toggleable__label-arrow:before {content: \"▾\";}#sk-container-id-6 div.sk-estimator input.sk-toggleable__control:checked~label.sk-toggleable__label {background-color: #d4ebff;}#sk-container-id-6 div.sk-label input.sk-toggleable__control:checked~label.sk-toggleable__label {background-color: #d4ebff;}#sk-container-id-6 input.sk-hidden--visually {border: 0;clip: rect(1px 1px 1px 1px);clip: rect(1px, 1px, 1px, 1px);height: 1px;margin: -1px;overflow: hidden;padding: 0;position: absolute;width: 1px;}#sk-container-id-6 div.sk-estimator {font-family: monospace;background-color: #f0f8ff;border: 1px dotted black;border-radius: 0.25em;box-sizing: border-box;margin-bottom: 0.5em;}#sk-container-id-6 div.sk-estimator:hover {background-color: #d4ebff;}#sk-container-id-6 div.sk-parallel-item::after {content: \"\";width: 100%;border-bottom: 1px solid gray;flex-grow: 1;}#sk-container-id-6 div.sk-label:hover label.sk-toggleable__label {background-color: #d4ebff;}#sk-container-id-6 div.sk-serial::before {content: \"\";position: absolute;border-left: 1px solid gray;box-sizing: border-box;top: 0;bottom: 0;left: 50%;z-index: 0;}#sk-container-id-6 div.sk-serial {display: flex;flex-direction: column;align-items: center;background-color: white;padding-right: 0.2em;padding-left: 0.2em;position: relative;}#sk-container-id-6 div.sk-item {position: relative;z-index: 1;}#sk-container-id-6 div.sk-parallel {display: flex;align-items: stretch;justify-content: center;background-color: white;position: relative;}#sk-container-id-6 div.sk-item::before, #sk-container-id-6 div.sk-parallel-item::before {content: \"\";position: absolute;border-left: 1px solid gray;box-sizing: border-box;top: 0;bottom: 0;left: 50%;z-index: -1;}#sk-container-id-6 div.sk-parallel-item {display: flex;flex-direction: column;z-index: 1;position: relative;background-color: white;}#sk-container-id-6 div.sk-parallel-item:first-child::after {align-self: flex-end;width: 50%;}#sk-container-id-6 div.sk-parallel-item:last-child::after {align-self: flex-start;width: 50%;}#sk-container-id-6 div.sk-parallel-item:only-child::after {width: 0;}#sk-container-id-6 div.sk-dashed-wrapped {border: 1px dashed gray;margin: 0 0.4em 0.5em 0.4em;box-sizing: border-box;padding-bottom: 0.4em;background-color: white;}#sk-container-id-6 div.sk-label label {font-family: monospace;font-weight: bold;display: inline-block;line-height: 1.2em;}#sk-container-id-6 div.sk-label-container {text-align: center;}#sk-container-id-6 div.sk-container {/* jupyter's `normalize.less` sets `[hidden] { display: none; }` but bootstrap.min.css set `[hidden] { display: none !important; }` so we also need the `!important` here to be able to override the default hidden behavior on the sphinx rendered scikit-learn.org. See: https://github.com/scikit-learn/scikit-learn/issues/21755 */display: inline-block !important;position: relative;}#sk-container-id-6 div.sk-text-repr-fallback {display: none;}</style><div id=\"sk-container-id-6\" class=\"sk-top-container\"><div class=\"sk-text-repr-fallback\"><pre>GridSearchCV(cv=4, estimator=KNeighborsClassifier(), n_jobs=-1,\n",
              "             param_grid={&#x27;metric&#x27;: [&#x27;euclidean&#x27;, &#x27;manhattan&#x27;],\n",
              "                         &#x27;n_neighbors&#x27;: array([ 2,  4,  6,  8, 10, 12, 14, 16, 18]),\n",
              "                         &#x27;weights&#x27;: [&#x27;uniform&#x27;, &#x27;distance&#x27;]},\n",
              "             scoring=&#x27;roc_auc&#x27;, verbose=2)</pre><b>In a Jupyter environment, please rerun this cell to show the HTML representation or trust the notebook. <br />On GitHub, the HTML representation is unable to render, please try loading this page with nbviewer.org.</b></div><div class=\"sk-container\" hidden><div class=\"sk-item sk-dashed-wrapped\"><div class=\"sk-label-container\"><div class=\"sk-label sk-toggleable\"><input class=\"sk-toggleable__control sk-hidden--visually\" id=\"sk-estimator-id-8\" type=\"checkbox\" ><label for=\"sk-estimator-id-8\" class=\"sk-toggleable__label sk-toggleable__label-arrow\">GridSearchCV</label><div class=\"sk-toggleable__content\"><pre>GridSearchCV(cv=4, estimator=KNeighborsClassifier(), n_jobs=-1,\n",
              "             param_grid={&#x27;metric&#x27;: [&#x27;euclidean&#x27;, &#x27;manhattan&#x27;],\n",
              "                         &#x27;n_neighbors&#x27;: array([ 2,  4,  6,  8, 10, 12, 14, 16, 18]),\n",
              "                         &#x27;weights&#x27;: [&#x27;uniform&#x27;, &#x27;distance&#x27;]},\n",
              "             scoring=&#x27;roc_auc&#x27;, verbose=2)</pre></div></div></div><div class=\"sk-parallel\"><div class=\"sk-parallel-item\"><div class=\"sk-item\"><div class=\"sk-label-container\"><div class=\"sk-label sk-toggleable\"><input class=\"sk-toggleable__control sk-hidden--visually\" id=\"sk-estimator-id-9\" type=\"checkbox\" ><label for=\"sk-estimator-id-9\" class=\"sk-toggleable__label sk-toggleable__label-arrow\">estimator: KNeighborsClassifier</label><div class=\"sk-toggleable__content\"><pre>KNeighborsClassifier()</pre></div></div></div><div class=\"sk-serial\"><div class=\"sk-item\"><div class=\"sk-estimator sk-toggleable\"><input class=\"sk-toggleable__control sk-hidden--visually\" id=\"sk-estimator-id-10\" type=\"checkbox\" ><label for=\"sk-estimator-id-10\" class=\"sk-toggleable__label sk-toggleable__label-arrow\">KNeighborsClassifier</label><div class=\"sk-toggleable__content\"><pre>KNeighborsClassifier()</pre></div></div></div></div></div></div></div></div></div></div>"
            ],
            "text/plain": [
              "GridSearchCV(cv=4, estimator=KNeighborsClassifier(), n_jobs=-1,\n",
              "             param_grid={'metric': ['euclidean', 'manhattan'],\n",
              "                         'n_neighbors': array([ 2,  4,  6,  8, 10, 12, 14, 16, 18]),\n",
              "                         'weights': ['uniform', 'distance']},\n",
              "             scoring='roc_auc', verbose=2)"
            ]
          },
          "execution_count": 49,
          "metadata": {},
          "output_type": "execute_result"
        }
      ],
      "source": [
        "gs_knn = GridSearchCV(knn_cl, knn_params, scoring='roc_auc', cv=4, n_jobs=-1, verbose=2)\n",
        "gs_knn.fit(X_train_scaled, y_train)"
      ]
    },
    {
      "cell_type": "code",
      "execution_count": 50,
      "metadata": {
        "colab": {
          "base_uri": "https://localhost:8080/"
        },
        "id": "FQHvZt16T1gb",
        "outputId": "f4c3b974-8f46-4242-9b0d-46065be756da"
      },
      "outputs": [
        {
          "name": "stdout",
          "output_type": "stream",
          "text": [
            "best score train: 0.8853840426091264\n",
            "best score test: 0.7452129656842136\n",
            "\n",
            "parameters:\n",
            "{'metric': 'manhattan', 'n_neighbors': 18, 'weights': 'distance'}\n"
          ]
        }
      ],
      "source": [
        "gs_knn_probs = gs_knn.best_estimator_.predict_proba(X_test_scaled)[:, 1]\n",
        "gs_knn_pred = gs_knn.best_estimator_.predict(X_test_scaled)\n",
        "\n",
        "print(f'best score train: {gs_knn.best_score_}')\n",
        "print(f'best score test: {roc_auc_score(y_test, gs_knn_pred)}\\n')\n",
        "print(f'parameters:\\n{gs_knn.best_params_}')"
      ]
    },
    {
      "cell_type": "code",
      "execution_count": 51,
      "metadata": {
        "colab": {
          "base_uri": "https://localhost:8080/",
          "height": 410
        },
        "id": "HkwyMXtKenyS",
        "outputId": "5eb6ba3d-5474-4170-8f9c-b907ae810aef"
      },
      "outputs": [
        {
          "data": {
            "image/png": "[encoded data removed]",
            "text/plain": [
              "<Figure size 500x300 with 2 Axes>"
            ]
          },
          "metadata": {},
          "output_type": "display_data"
        },
        {
          "data": {
            "text/html": [
              "<div>\n",
              "<style scoped>\n",
              "    .dataframe tbody tr th:only-of-type {\n",
              "        vertical-align: middle;\n",
              "    }\n",
              "\n",
              "    .dataframe tbody tr th {\n",
              "        vertical-align: top;\n",
              "    }\n",
              "\n",
              "    .dataframe thead th {\n",
              "        text-align: right;\n",
              "    }\n",
              "</style>\n",
              "<table border=\"1\" class=\"dataframe\">\n",
              "  <thead>\n",
              "    <tr style=\"text-align: right;\">\n",
              "      <th></th>\n",
              "      <th>Sensitivity</th>\n",
              "      <th>Specificity</th>\n",
              "      <th>G Mean</th>\n",
              "      <th>MCC</th>\n",
              "    </tr>\n",
              "  </thead>\n",
              "  <tbody>\n",
              "    <tr>\n",
              "      <th>GS kNN</th>\n",
              "      <td>0.541578</td>\n",
              "      <td>0.948848</td>\n",
              "      <td>0.716851</td>\n",
              "      <td>0.532625</td>\n",
              "    </tr>\n",
              "  </tbody>\n",
              "</table>\n",
              "</div>"
            ],
            "text/plain": [
              "        Sensitivity  Specificity    G Mean       MCC\n",
              "GS kNN     0.541578     0.948848  0.716851  0.532625"
            ]
          },
          "execution_count": 51,
          "metadata": {},
          "output_type": "execute_result"
        }
      ],
      "source": [
        "metrics_report('GS kNN', y_test, gs_knn_pred)"
      ]
    },
    {
      "cell_type": "markdown",
      "metadata": {
        "id": "YI519smWxbhl"
      },
      "source": [
        "**По сравнению с базовой моделью kNN:**\n",
        "\n",
        "После настройки гиперпараметров качество модели kNN увеличивается как на положительном, так и на отрицательном классах: Sensitivity +0.86%, Specificity +0.31%.\n",
        "\n",
        "Следовательно, заметен небольшой прирост качества по общим мерам: G Mean +0.0069, MCC +0.0149."
      ]
    },
    {
      "cell_type": "markdown",
      "metadata": {
        "id": "d3HH7R7MeSU0"
      },
      "source": [
        "### Логистическая регрессия\n",
        "\n",
        "\n",
        "Для модели логистической регрессии настраиваются гиперпараметры:\n",
        "\n",
        "- `class_weight` для присваивания разных весов в зависимости от класса;\n",
        "- `C` для контроля силы регуляризации;\n",
        "- `solver` для выбора лучшего алгоритма оптимизации;\n",
        "- `max_iter` для контроля числа операций."
      ]
    },
    {
      "cell_type": "code",
      "execution_count": 52,
      "metadata": {
        "id": "pbbehUv2UarK"
      },
      "outputs": [],
      "source": [
        "lr_params = {\n",
        "    'class_weight': [None, 'balanced'],\n",
        "    'C': np.logspace(-3, 3, 7),\n",
        "    'solver': ['newton-cg', 'sag', 'saga', 'liblinear'],\n",
        "    'max_iter': [30, 50, 100]\n",
        "}"
      ]
    },
    {
      "cell_type": "code",
      "execution_count": 53,
      "metadata": {
        "colab": {
          "base_uri": "https://localhost:8080/",
          "height": 151
        },
        "id": "aBgl36nvf2cA",
        "outputId": "714af41b-8f4b-42af-8bc0-5f23e0b06969"
      },
      "outputs": [
        {
          "name": "stdout",
          "output_type": "stream",
          "text": [
            "Fitting 4 folds for each of 168 candidates, totalling 672 fits\n"
          ]
        },
        {
          "data": {
            "text/html": [
              "<style>#sk-container-id-7 {color: black;}#sk-container-id-7 pre{padding: 0;}#sk-container-id-7 div.sk-toggleable {background-color: white;}#sk-container-id-7 label.sk-toggleable__label {cursor: pointer;display: block;width: 100%;margin-bottom: 0;padding: 0.3em;box-sizing: border-box;text-align: center;}#sk-container-id-7 label.sk-toggleable__label-arrow:before {content: \"▸\";float: left;margin-right: 0.25em;color: #696969;}#sk-container-id-7 label.sk-toggleable__label-arrow:hover:before {color: black;}#sk-container-id-7 div.sk-estimator:hover label.sk-toggleable__label-arrow:before {color: black;}#sk-container-id-7 div.sk-toggleable__content {max-height: 0;max-width: 0;overflow: hidden;text-align: left;background-color: #f0f8ff;}#sk-container-id-7 div.sk-toggleable__content pre {margin: 0.2em;color: black;border-radius: 0.25em;background-color: #f0f8ff;}#sk-container-id-7 input.sk-toggleable__control:checked~div.sk-toggleable__content {max-height: 200px;max-width: 100%;overflow: auto;}#sk-container-id-7 input.sk-toggleable__control:checked~label.sk-toggleable__label-arrow:before {content: \"▾\";}#sk-container-id-7 div.sk-estimator input.sk-toggleable__control:checked~label.sk-toggleable__label {background-color: #d4ebff;}#sk-container-id-7 div.sk-label input.sk-toggleable__control:checked~label.sk-toggleable__label {background-color: #d4ebff;}#sk-container-id-7 input.sk-hidden--visually {border: 0;clip: rect(1px 1px 1px 1px);clip: rect(1px, 1px, 1px, 1px);height: 1px;margin: -1px;overflow: hidden;padding: 0;position: absolute;width: 1px;}#sk-container-id-7 div.sk-estimator {font-family: monospace;background-color: #f0f8ff;border: 1px dotted black;border-radius: 0.25em;box-sizing: border-box;margin-bottom: 0.5em;}#sk-container-id-7 div.sk-estimator:hover {background-color: #d4ebff;}#sk-container-id-7 div.sk-parallel-item::after {content: \"\";width: 100%;border-bottom: 1px solid gray;flex-grow: 1;}#sk-container-id-7 div.sk-label:hover label.sk-toggleable__label {background-color: #d4ebff;}#sk-container-id-7 div.sk-serial::before {content: \"\";position: absolute;border-left: 1px solid gray;box-sizing: border-box;top: 0;bottom: 0;left: 50%;z-index: 0;}#sk-container-id-7 div.sk-serial {display: flex;flex-direction: column;align-items: center;background-color: white;padding-right: 0.2em;padding-left: 0.2em;position: relative;}#sk-container-id-7 div.sk-item {position: relative;z-index: 1;}#sk-container-id-7 div.sk-parallel {display: flex;align-items: stretch;justify-content: center;background-color: white;position: relative;}#sk-container-id-7 div.sk-item::before, #sk-container-id-7 div.sk-parallel-item::before {content: \"\";position: absolute;border-left: 1px solid gray;box-sizing: border-box;top: 0;bottom: 0;left: 50%;z-index: -1;}#sk-container-id-7 div.sk-parallel-item {display: flex;flex-direction: column;z-index: 1;position: relative;background-color: white;}#sk-container-id-7 div.sk-parallel-item:first-child::after {align-self: flex-end;width: 50%;}#sk-container-id-7 div.sk-parallel-item:last-child::after {align-self: flex-start;width: 50%;}#sk-container-id-7 div.sk-parallel-item:only-child::after {width: 0;}#sk-container-id-7 div.sk-dashed-wrapped {border: 1px dashed gray;margin: 0 0.4em 0.5em 0.4em;box-sizing: border-box;padding-bottom: 0.4em;background-color: white;}#sk-container-id-7 div.sk-label label {font-family: monospace;font-weight: bold;display: inline-block;line-height: 1.2em;}#sk-container-id-7 div.sk-label-container {text-align: center;}#sk-container-id-7 div.sk-container {/* jupyter's `normalize.less` sets `[hidden] { display: none; }` but bootstrap.min.css set `[hidden] { display: none !important; }` so we also need the `!important` here to be able to override the default hidden behavior on the sphinx rendered scikit-learn.org. See: https://github.com/scikit-learn/scikit-learn/issues/21755 */display: inline-block !important;position: relative;}#sk-container-id-7 div.sk-text-repr-fallback {display: none;}</style><div id=\"sk-container-id-7\" class=\"sk-top-container\"><div class=\"sk-text-repr-fallback\"><pre>GridSearchCV(cv=4, estimator=LogisticRegression(class_weight={0: 0.6, 1: 3}),\n",
              "             n_jobs=-1,\n",
              "             param_grid={&#x27;C&#x27;: array([1.e-03, 1.e-02, 1.e-01, 1.e+00, 1.e+01, 1.e+02, 1.e+03]),\n",
              "                         &#x27;class_weight&#x27;: [None, &#x27;balanced&#x27;],\n",
              "                         &#x27;max_iter&#x27;: [30, 50, 100],\n",
              "                         &#x27;solver&#x27;: [&#x27;newton-cg&#x27;, &#x27;sag&#x27;, &#x27;saga&#x27;, &#x27;liblinear&#x27;]},\n",
              "             scoring=&#x27;roc_auc&#x27;, verbose=2)</pre><b>In a Jupyter environment, please rerun this cell to show the HTML representation or trust the notebook. <br />On GitHub, the HTML representation is unable to render, please try loading this page with nbviewer.org.</b></div><div class=\"sk-container\" hidden><div class=\"sk-item sk-dashed-wrapped\"><div class=\"sk-label-container\"><div class=\"sk-label sk-toggleable\"><input class=\"sk-toggleable__control sk-hidden--visually\" id=\"sk-estimator-id-11\" type=\"checkbox\" ><label for=\"sk-estimator-id-11\" class=\"sk-toggleable__label sk-toggleable__label-arrow\">GridSearchCV</label><div class=\"sk-toggleable__content\"><pre>GridSearchCV(cv=4, estimator=LogisticRegression(class_weight={0: 0.6, 1: 3}),\n",
              "             n_jobs=-1,\n",
              "             param_grid={&#x27;C&#x27;: array([1.e-03, 1.e-02, 1.e-01, 1.e+00, 1.e+01, 1.e+02, 1.e+03]),\n",
              "                         &#x27;class_weight&#x27;: [None, &#x27;balanced&#x27;],\n",
              "                         &#x27;max_iter&#x27;: [30, 50, 100],\n",
              "                         &#x27;solver&#x27;: [&#x27;newton-cg&#x27;, &#x27;sag&#x27;, &#x27;saga&#x27;, &#x27;liblinear&#x27;]},\n",
              "             scoring=&#x27;roc_auc&#x27;, verbose=2)</pre></div></div></div><div class=\"sk-parallel\"><div class=\"sk-parallel-item\"><div class=\"sk-item\"><div class=\"sk-label-container\"><div class=\"sk-label sk-toggleable\"><input class=\"sk-toggleable__control sk-hidden--visually\" id=\"sk-estimator-id-12\" type=\"checkbox\" ><label for=\"sk-estimator-id-12\" class=\"sk-toggleable__label sk-toggleable__label-arrow\">estimator: LogisticRegression</label><div class=\"sk-toggleable__content\"><pre>LogisticRegression(class_weight={0: 0.6, 1: 3})</pre></div></div></div><div class=\"sk-serial\"><div class=\"sk-item\"><div class=\"sk-estimator sk-toggleable\"><input class=\"sk-toggleable__control sk-hidden--visually\" id=\"sk-estimator-id-13\" type=\"checkbox\" ><label for=\"sk-estimator-id-13\" class=\"sk-toggleable__label sk-toggleable__label-arrow\">LogisticRegression</label><div class=\"sk-toggleable__content\"><pre>LogisticRegression(class_weight={0: 0.6, 1: 3})</pre></div></div></div></div></div></div></div></div></div></div>"
            ],
            "text/plain": [
              "GridSearchCV(cv=4, estimator=LogisticRegression(class_weight={0: 0.6, 1: 3}),\n",
              "             n_jobs=-1,\n",
              "             param_grid={'C': array([1.e-03, 1.e-02, 1.e-01, 1.e+00, 1.e+01, 1.e+02, 1.e+03]),\n",
              "                         'class_weight': [None, 'balanced'],\n",
              "                         'max_iter': [30, 50, 100],\n",
              "                         'solver': ['newton-cg', 'sag', 'saga', 'liblinear']},\n",
              "             scoring='roc_auc', verbose=2)"
            ]
          },
          "execution_count": 53,
          "metadata": {},
          "output_type": "execute_result"
        }
      ],
      "source": [
        "gs_lr = GridSearchCV(LogisticRegression(class_weight={0: 0.6, 1: 3}), lr_params, scoring='roc_auc', cv=4, n_jobs=-1, verbose=2)\n",
        "gs_lr.fit(X_train, y_train)"
      ]
    },
    {
      "cell_type": "code",
      "execution_count": 54,
      "metadata": {
        "colab": {
          "base_uri": "https://localhost:8080/"
        },
        "id": "LN5pi0jIgtgx",
        "outputId": "37f2f3b7-4ab1-4d27-8be4-002412868050"
      },
      "outputs": [
        {
          "name": "stdout",
          "output_type": "stream",
          "text": [
            "best score train: 0.8885536748609657\n",
            "best score test: 0.833573389259426\n",
            "\n",
            "parameters:\n",
            "{'C': 0.01, 'class_weight': 'balanced', 'max_iter': 30, 'solver': 'liblinear'}\n"
          ]
        }
      ],
      "source": [
        "gs_lr_probs = gs_lr.best_estimator_.predict_proba(X_test)[:, 1]\n",
        "gs_lr_pred = gs_lr.best_estimator_.predict(X_test)\n",
        "\n",
        "print(f'best score train: {gs_lr.best_score_}')\n",
        "print(f'best score test: {roc_auc_score(y_test, gs_lr_pred)}\\n')\n",
        "print(f'parameters:\\n{gs_lr.best_params_}')"
      ]
    },
    {
      "cell_type": "code",
      "execution_count": 55,
      "metadata": {
        "colab": {
          "base_uri": "https://localhost:8080/",
          "height": 410
        },
        "id": "h15KLmcFjODh",
        "outputId": "99d4758b-5636-4220-ebfd-e92f7a5337d8"
      },
      "outputs": [
        {
          "data": {
            "image/png": "[encoded data removed]",
            "text/plain": [
              "<Figure size 500x300 with 2 Axes>"
            ]
          },
          "metadata": {},
          "output_type": "display_data"
        },
        {
          "data": {
            "text/html": [
              "<div>\n",
              "<style scoped>\n",
              "    .dataframe tbody tr th:only-of-type {\n",
              "        vertical-align: middle;\n",
              "    }\n",
              "\n",
              "    .dataframe tbody tr th {\n",
              "        vertical-align: top;\n",
              "    }\n",
              "\n",
              "    .dataframe thead th {\n",
              "        text-align: right;\n",
              "    }\n",
              "</style>\n",
              "<table border=\"1\" class=\"dataframe\">\n",
              "  <thead>\n",
              "    <tr style=\"text-align: right;\">\n",
              "      <th></th>\n",
              "      <th>Sensitivity</th>\n",
              "      <th>Specificity</th>\n",
              "      <th>G Mean</th>\n",
              "      <th>MCC</th>\n",
              "    </tr>\n",
              "  </thead>\n",
              "  <tbody>\n",
              "    <tr>\n",
              "      <th>GS LR</th>\n",
              "      <td>0.780384</td>\n",
              "      <td>0.886763</td>\n",
              "      <td>0.831875</td>\n",
              "      <td>0.585896</td>\n",
              "    </tr>\n",
              "  </tbody>\n",
              "</table>\n",
              "</div>"
            ],
            "text/plain": [
              "       Sensitivity  Specificity    G Mean       MCC\n",
              "GS LR     0.780384     0.886763  0.831875  0.585896"
            ]
          },
          "execution_count": 55,
          "metadata": {},
          "output_type": "execute_result"
        }
      ],
      "source": [
        "metrics_report('GS LR', y_test, gs_lr_pred)"
      ]
    },
    {
      "cell_type": "markdown",
      "metadata": {
        "id": "b0ihlIps0Kvs"
      },
      "source": [
        "**По сравнению с базовой моделью Logistic Regression:**\n",
        "\n",
        "Настройка гиперпараметров модели логистической регресии позволила увеличить производительность модели по обобщенным мерам: G Mean +0.2307 и MCC +0.1235.\n",
        "\n",
        "Это достигается за счет того, что после подбора гиперпараметров модель стала более эффективно классифицировать объекты миноритарного положительного класса, верно определяя 78.04% случаев (прирост на 40.94% по сравнению с базовой моделью). По метрике Specificity, который характеризует эффективность классификации преобладающего отрицательного класса, наоборот наблюдается снижение на 8.74%, но значение показателя по-прежнему высокое — 88.67%."
      ]
    },
    {
      "cell_type": "markdown",
      "metadata": {
        "id": "XH9lJENA1ouV"
      },
      "source": [
        "### Random Forest\n",
        "\n",
        "Для модели Random Forest настраиваются гиперпараметры:\n",
        "\n",
        "- `n_estimators`: количество решающих деревьев в модели;\n",
        "- `criterion`: критерий разделения узлов;\n",
        "- `max_features`: максимальное количество признаков, участвующих в поиске лучшего разделения;\n",
        "- `max_depth`: максимальная глубина деревьев;\n",
        "- `class_weight`: веса классов.\n"
      ]
    },
    {
      "cell_type": "code",
      "execution_count": 56,
      "metadata": {
        "id": "8M8laGzI1vFx"
      },
      "outputs": [],
      "source": [
        "rf_params = {\n",
        "    'n_estimators': [300, 400, 500],\n",
        "    'criterion': ['gini', 'entropy'],\n",
        "    'max_features': ['sqrt', 'log2'],\n",
        "    'max_depth': [5, 10, 15],\n",
        "    'class_weight': ['balanced', 'balanced_subsample']\n",
        "}"
      ]
    },
    {
      "cell_type": "code",
      "execution_count": 57,
      "metadata": {
        "colab": {
          "base_uri": "https://localhost:8080/",
          "height": 355
        },
        "id": "QYiMeshc3XAP",
        "outputId": "5018fa82-2647-4da9-9418-52cbf703c938"
      },
      "outputs": [
        {
          "name": "stdout",
          "output_type": "stream",
          "text": [
            "Fitting 4 folds for each of 72 candidates, totalling 288 fits\n"
          ]
        },
        {
          "data": {
            "text/html": [
              "<style>#sk-container-id-8 {color: black;}#sk-container-id-8 pre{padding: 0;}#sk-container-id-8 div.sk-toggleable {background-color: white;}#sk-container-id-8 label.sk-toggleable__label {cursor: pointer;display: block;width: 100%;margin-bottom: 0;padding: 0.3em;box-sizing: border-box;text-align: center;}#sk-container-id-8 label.sk-toggleable__label-arrow:before {content: \"▸\";float: left;margin-right: 0.25em;color: #696969;}#sk-container-id-8 label.sk-toggleable__label-arrow:hover:before {color: black;}#sk-container-id-8 div.sk-estimator:hover label.sk-toggleable__label-arrow:before {color: black;}#sk-container-id-8 div.sk-toggleable__content {max-height: 0;max-width: 0;overflow: hidden;text-align: left;background-color: #f0f8ff;}#sk-container-id-8 div.sk-toggleable__content pre {margin: 0.2em;color: black;border-radius: 0.25em;background-color: #f0f8ff;}#sk-container-id-8 input.sk-toggleable__control:checked~div.sk-toggleable__content {max-height: 200px;max-width: 100%;overflow: auto;}#sk-container-id-8 input.sk-toggleable__control:checked~label.sk-toggleable__label-arrow:before {content: \"▾\";}#sk-container-id-8 div.sk-estimator input.sk-toggleable__control:checked~label.sk-toggleable__label {background-color: #d4ebff;}#sk-container-id-8 div.sk-label input.sk-toggleable__control:checked~label.sk-toggleable__label {background-color: #d4ebff;}#sk-container-id-8 input.sk-hidden--visually {border: 0;clip: rect(1px 1px 1px 1px);clip: rect(1px, 1px, 1px, 1px);height: 1px;margin: -1px;overflow: hidden;padding: 0;position: absolute;width: 1px;}#sk-container-id-8 div.sk-estimator {font-family: monospace;background-color: #f0f8ff;border: 1px dotted black;border-radius: 0.25em;box-sizing: border-box;margin-bottom: 0.5em;}#sk-container-id-8 div.sk-estimator:hover {background-color: #d4ebff;}#sk-container-id-8 div.sk-parallel-item::after {content: \"\";width: 100%;border-bottom: 1px solid gray;flex-grow: 1;}#sk-container-id-8 div.sk-label:hover label.sk-toggleable__label {background-color: #d4ebff;}#sk-container-id-8 div.sk-serial::before {content: \"\";position: absolute;border-left: 1px solid gray;box-sizing: border-box;top: 0;bottom: 0;left: 50%;z-index: 0;}#sk-container-id-8 div.sk-serial {display: flex;flex-direction: column;align-items: center;background-color: white;padding-right: 0.2em;padding-left: 0.2em;position: relative;}#sk-container-id-8 div.sk-item {position: relative;z-index: 1;}#sk-container-id-8 div.sk-parallel {display: flex;align-items: stretch;justify-content: center;background-color: white;position: relative;}#sk-container-id-8 div.sk-item::before, #sk-container-id-8 div.sk-parallel-item::before {content: \"\";position: absolute;border-left: 1px solid gray;box-sizing: border-box;top: 0;bottom: 0;left: 50%;z-index: -1;}#sk-container-id-8 div.sk-parallel-item {display: flex;flex-direction: column;z-index: 1;position: relative;background-color: white;}#sk-container-id-8 div.sk-parallel-item:first-child::after {align-self: flex-end;width: 50%;}#sk-container-id-8 div.sk-parallel-item:last-child::after {align-self: flex-start;width: 50%;}#sk-container-id-8 div.sk-parallel-item:only-child::after {width: 0;}#sk-container-id-8 div.sk-dashed-wrapped {border: 1px dashed gray;margin: 0 0.4em 0.5em 0.4em;box-sizing: border-box;padding-bottom: 0.4em;background-color: white;}#sk-container-id-8 div.sk-label label {font-family: monospace;font-weight: bold;display: inline-block;line-height: 1.2em;}#sk-container-id-8 div.sk-label-container {text-align: center;}#sk-container-id-8 div.sk-container {/* jupyter's `normalize.less` sets `[hidden] { display: none; }` but bootstrap.min.css set `[hidden] { display: none !important; }` so we also need the `!important` here to be able to override the default hidden behavior on the sphinx rendered scikit-learn.org. See: https://github.com/scikit-learn/scikit-learn/issues/21755 */display: inline-block !important;position: relative;}#sk-container-id-8 div.sk-text-repr-fallback {display: none;}</style><div id=\"sk-container-id-8\" class=\"sk-top-container\"><div class=\"sk-text-repr-fallback\"><pre>GridSearchCV(cv=4, estimator=RandomForestClassifier(random_state=8), n_jobs=-1,\n",
              "             param_grid={&#x27;class_weight&#x27;: [&#x27;balanced&#x27;, &#x27;balanced_subsample&#x27;],\n",
              "                         &#x27;criterion&#x27;: [&#x27;gini&#x27;, &#x27;entropy&#x27;],\n",
              "                         &#x27;max_depth&#x27;: [5, 10, 15],\n",
              "                         &#x27;max_features&#x27;: [&#x27;sqrt&#x27;, &#x27;log2&#x27;],\n",
              "                         &#x27;n_estimators&#x27;: [300, 400, 500]},\n",
              "             scoring=&#x27;roc_auc&#x27;, verbose=2)</pre><b>In a Jupyter environment, please rerun this cell to show the HTML representation or trust the notebook. <br />On GitHub, the HTML representation is unable to render, please try loading this page with nbviewer.org.</b></div><div class=\"sk-container\" hidden><div class=\"sk-item sk-dashed-wrapped\"><div class=\"sk-label-container\"><div class=\"sk-label sk-toggleable\"><input class=\"sk-toggleable__control sk-hidden--visually\" id=\"sk-estimator-id-14\" type=\"checkbox\" ><label for=\"sk-estimator-id-14\" class=\"sk-toggleable__label sk-toggleable__label-arrow\">GridSearchCV</label><div class=\"sk-toggleable__content\"><pre>GridSearchCV(cv=4, estimator=RandomForestClassifier(random_state=8), n_jobs=-1,\n",
              "             param_grid={&#x27;class_weight&#x27;: [&#x27;balanced&#x27;, &#x27;balanced_subsample&#x27;],\n",
              "                         &#x27;criterion&#x27;: [&#x27;gini&#x27;, &#x27;entropy&#x27;],\n",
              "                         &#x27;max_depth&#x27;: [5, 10, 15],\n",
              "                         &#x27;max_features&#x27;: [&#x27;sqrt&#x27;, &#x27;log2&#x27;],\n",
              "                         &#x27;n_estimators&#x27;: [300, 400, 500]},\n",
              "             scoring=&#x27;roc_auc&#x27;, verbose=2)</pre></div></div></div><div class=\"sk-parallel\"><div class=\"sk-parallel-item\"><div class=\"sk-item\"><div class=\"sk-label-container\"><div class=\"sk-label sk-toggleable\"><input class=\"sk-toggleable__control sk-hidden--visually\" id=\"sk-estimator-id-15\" type=\"checkbox\" ><label for=\"sk-estimator-id-15\" class=\"sk-toggleable__label sk-toggleable__label-arrow\">estimator: RandomForestClassifier</label><div class=\"sk-toggleable__content\"><pre>RandomForestClassifier(random_state=8)</pre></div></div></div><div class=\"sk-serial\"><div class=\"sk-item\"><div class=\"sk-estimator sk-toggleable\"><input class=\"sk-toggleable__control sk-hidden--visually\" id=\"sk-estimator-id-16\" type=\"checkbox\" ><label for=\"sk-estimator-id-16\" class=\"sk-toggleable__label sk-toggleable__label-arrow\">RandomForestClassifier</label><div class=\"sk-toggleable__content\"><pre>RandomForestClassifier(random_state=8)</pre></div></div></div></div></div></div></div></div></div></div>"
            ],
            "text/plain": [
              "GridSearchCV(cv=4, estimator=RandomForestClassifier(random_state=8), n_jobs=-1,\n",
              "             param_grid={'class_weight': ['balanced', 'balanced_subsample'],\n",
              "                         'criterion': ['gini', 'entropy'],\n",
              "                         'max_depth': [5, 10, 15],\n",
              "                         'max_features': ['sqrt', 'log2'],\n",
              "                         'n_estimators': [300, 400, 500]},\n",
              "             scoring='roc_auc', verbose=2)"
            ]
          },
          "execution_count": 57,
          "metadata": {},
          "output_type": "execute_result"
        }
      ],
      "source": [
        "gs_rf = GridSearchCV(rf, rf_params, scoring='roc_auc', cv=4, n_jobs=-1, verbose=2)\n",
        "gs_rf.fit(X_train, y_train)"
      ]
    },
    {
      "cell_type": "code",
      "execution_count": 58,
      "metadata": {
        "id": "FO_J4Znq-3m3"
      },
      "outputs": [
        {
          "name": "stdout",
          "output_type": "stream",
          "text": [
            "best score train: 0.9056284311532967\n",
            "best score test: 0.8502404860841105\n",
            "\n",
            "parameters:\n",
            "{'class_weight': 'balanced_subsample', 'criterion': 'entropy', 'max_depth': 5, 'max_features': 'sqrt', 'n_estimators': 300}\n"
          ]
        }
      ],
      "source": [
        "gs_rf_probs = gs_rf.best_estimator_.predict_proba(X_test)[:, 1]\n",
        "gs_rf_pred = gs_rf.best_estimator_.predict(X_test)\n",
        "\n",
        "print(f'best score train: {gs_rf.best_score_}')\n",
        "print(f'best score test: {roc_auc_score(y_test, gs_rf_pred)}\\n')\n",
        "print(f'parameters:\\n{gs_rf.best_params_}')"
      ]
    },
    {
      "cell_type": "code",
      "execution_count": 59,
      "metadata": {
        "id": "uz11wAp7jvCZ"
      },
      "outputs": [
        {
          "data": {
            "image/png": "[encoded data removed]",
            "text/plain": [
              "<Figure size 500x300 with 2 Axes>"
            ]
          },
          "metadata": {},
          "output_type": "display_data"
        },
        {
          "data": {
            "text/html": [
              "<div>\n",
              "<style scoped>\n",
              "    .dataframe tbody tr th:only-of-type {\n",
              "        vertical-align: middle;\n",
              "    }\n",
              "\n",
              "    .dataframe tbody tr th {\n",
              "        vertical-align: top;\n",
              "    }\n",
              "\n",
              "    .dataframe thead th {\n",
              "        text-align: right;\n",
              "    }\n",
              "</style>\n",
              "<table border=\"1\" class=\"dataframe\">\n",
              "  <thead>\n",
              "    <tr style=\"text-align: right;\">\n",
              "      <th></th>\n",
              "      <th>Sensitivity</th>\n",
              "      <th>Specificity</th>\n",
              "      <th>G Mean</th>\n",
              "      <th>MCC</th>\n",
              "    </tr>\n",
              "  </thead>\n",
              "  <tbody>\n",
              "    <tr>\n",
              "      <th>GS RF</th>\n",
              "      <td>0.814499</td>\n",
              "      <td>0.885982</td>\n",
              "      <td>0.849489</td>\n",
              "      <td>0.609214</td>\n",
              "    </tr>\n",
              "  </tbody>\n",
              "</table>\n",
              "</div>"
            ],
            "text/plain": [
              "       Sensitivity  Specificity    G Mean       MCC\n",
              "GS RF     0.814499     0.885982  0.849489  0.609214"
            ]
          },
          "execution_count": 59,
          "metadata": {},
          "output_type": "execute_result"
        }
      ],
      "source": [
        "metrics_report('GS RF', y_test, gs_rf_pred)"
      ]
    },
    {
      "cell_type": "markdown",
      "metadata": {
        "id": "ddbtAB-V6HuR"
      },
      "source": [
        "**По сравнению с базовой моделью Random Forest:**\n",
        "\n",
        "Подбор гиперпараметров модели Random Forest привел к улучшению показателей обобщенных метрик: G Mean +0.1121 и MCC +0.0297.\n",
        "\n",
        "Значительно уменьшилось количество ложноотрицательных ответов. Оптимизированная модель верно классифицирует 81.45% объектов меньшего положительного класса (прирост на 24.73% по метрике Sensitivity). При этом доля верных ответов на объектах прреобладающего отрицательного класса снизилась. Random Forest с подобранными гиперпараметрами точно определяет 88.6% объектов из отрицательного класса (снижение на 7.26%)."
      ]
    },
    {
      "cell_type": "code",
      "execution_count": 60,
      "metadata": {
        "id": "2H0cTlbg_Wvd"
      },
      "outputs": [],
      "source": [
        "# joblib.dump(gs_rf.best_estimator_, 'rf-models/best_random_forest.pkl')"
      ]
    },
    {
      "cell_type": "markdown",
      "metadata": {
        "id": "XlpkOEjT97Ud"
      },
      "source": [
        "### Сравнение моделей"
      ]
    },
    {
      "cell_type": "code",
      "execution_count": 61,
      "metadata": {
        "id": "jk_owSqMazgy"
      },
      "outputs": [
        {
          "data": {
            "image/png": "[encoded data removed]",
            "text/plain": [
              "<Figure size 700x500 with 1 Axes>"
            ]
          },
          "metadata": {},
          "output_type": "display_data"
        }
      ],
      "source": [
        "fpr_gnb, tpr_gnb, _ = roc_curve(y_test, gs_gnb_probs)\n",
        "roc_auc_gnb = auc(fpr_gnb, tpr_gnb)\n",
        "fpr_knn, tpr_knn, _ = roc_curve(y_test, gs_knn_probs)\n",
        "roc_auc_knn = auc(fpr_knn, tpr_knn)\n",
        "fpr_lr, tpr_lr, _ = roc_curve(y_test, gs_lr_probs)\n",
        "roc_auc_lr = auc(fpr_lr, tpr_lr)\n",
        "fpr_rf, tpr_rf, _ = roc_curve(y_test, gs_rf_probs)\n",
        "roc_auc_rf = auc(fpr_rf, tpr_rf)\n",
        "\n",
        "plt.figure(figsize=(7, 5))\n",
        "plt.plot(fpr_gnb, tpr_gnb, 'r', label='AUC GNB = %0.3f' % roc_auc_gnb)\n",
        "plt.plot(fpr_knn, tpr_knn, 'y', label='AUC KNN = %0.3f' % roc_auc_knn)\n",
        "plt.plot(fpr_lr, tpr_lr, 'g', label='AUC LR = %0.3f' % roc_auc_lr)\n",
        "plt.plot(fpr_rf, tpr_rf, 'b', label='AUC RF = %0.3f' % roc_auc_rf)\n",
        "plt.plot([0,1], [0,1], 'w--')\n",
        "\n",
        "plt.title('ROC')\n",
        "plt.xlabel('False Positive Rate')\n",
        "plt.ylabel('True Positive Rate')\n",
        "plt.tight_layout()\n",
        "plt.legend(loc='lower right', prop={'size': 8});"
      ]
    },
    {
      "cell_type": "markdown",
      "metadata": {
        "id": "FbmaIH8gvWLF"
      },
      "source": [
        "По показателям AUC 3 из 4 моделей демонстррируют небольшое улучшение: GaussianNB +0.016, kNN +0.031, Random Forest +0.012. Значение AUC логистической регрессии не изменилось, несмотря на то, что анализ метрик по отдельным аспектам производительности модели показал, что после подбора гиперпараметров модель стала менее предвзятой в сторону преобладающего класса и ее предсказания стали более сбалансированними.\n",
        "\n",
        "По метрикам AUC и по графикам ROC-кривых видно, что модель Random Forest в целом превосходит остальные модели в решении задачи классификации на данных с сильным дисбалансом."
      ]
    },
    {
      "cell_type": "markdown",
      "metadata": {
        "id": "E2J7qL-zymt9"
      },
      "source": [
        "**Выводы по итогам обучения моделей на числовых признаках с подбором гиперпараметров:**\n",
        "\n",
        "- Настройка гиперпараметров классификатора **GaussianNB** привела к отклонениям в производительности модели в сторону преобладающего класса, снижению эффективности на менее представленном классе и уменьшению качества по общим показателям.\n",
        "\n",
        "- Донастроенная модель **kNN** показала одинаково незначительное улучшение по всем анализируемым показателям качества. Степень предвзятости классификатора в сторону отрицательного класса не изменилась.\n",
        "\n",
        "- В результате подбора гиперпараметров для моделей **логистической регрессии** и **Random Forest** увеличилась степень сбалансированности предсказаний обоих классификаторов на двух классах. Это выражается в значительном улучшении эффективности классификации на объектах меньшего положительного класса, и снижении качества на преобладающем отрицательном классе, которое тем не менее отстается высоким (более 88%) у обеих моделей.\n",
        "\n",
        "\n",
        "Для дальнейших экспериментов была выбрана модель **Random Forest**. Несмотря на значительный прогресс модели логистической регрессии, Random Forest демонстрирует лучшие показатели по всем метрикам, кроме Specificity, по которой у логистической регрессии небольшое преимущество в 0.08%. Кроме того, Random Forest обеспечивает более сбалансированный результат в классификации преобладающего и миноритарного классов."
      ]
    },
    {
      "cell_type": "markdown",
      "metadata": {
        "id": "qDEUbKX7pNWl"
      },
      "source": [
        "## 3. Учет категориальных признаков\n",
        "\n",
        "Обучение модели Random Forest с лучшими по GridSearch гиперпараметрами на *числовых* и *категориальных* признаках. Дополнительный подбор гиперпарапметров на полном наборе признаков."
      ]
    },
    {
      "cell_type": "code",
      "execution_count": 62,
      "metadata": {
        "id": "BbG0u7bhpEew"
      },
      "outputs": [],
      "source": [
        "# best_rf = joblib.load('rf-models/best_random_forest.pkl')\n",
        "\n",
        "best_rf = gs_rf.best_estimator_"
      ]
    },
    {
      "cell_type": "markdown",
      "metadata": {
        "id": "kBE_fzRa5Q5u"
      },
      "source": [
        "### Добавление категориальных признаков в данные\n",
        "\n",
        "Категориальные признаки преобразуются с помощью метода One-Hot Encoding."
      ]
    },
    {
      "cell_type": "code",
      "execution_count": 63,
      "metadata": {
        "id": "eIRnX5J9p9EA"
      },
      "outputs": [],
      "source": [
        "X_full = df.drop('Revenue', axis=1)\n",
        "\n",
        "X_train_full, X_test_full, y_train_full, y_test_full = train_test_split(X_full, y, test_size=0.25, random_state=8)"
      ]
    },
    {
      "cell_type": "code",
      "execution_count": 64,
      "metadata": {
        "id": "nTIeSE5vqgQB"
      },
      "outputs": [],
      "source": [
        "ct = ColumnTransformer([('ohe', OneHotEncoder(handle_unknown='ignore'), categorical)], remainder='passthrough')\n",
        "\n",
        "X_train_transformed = ct.fit_transform(X_train_full)\n",
        "X_test_transformed = ct.transform(X_test_full)\n",
        "\n",
        "new_features = list(ct.named_transformers_['ohe'].get_feature_names_out(input_features=categorical))\n",
        "new_features.extend(numerical)\n",
        "\n",
        "X_train_transformed = pd.DataFrame.sparse.from_spmatrix(X_train_transformed, columns=new_features)\n",
        "X_test_transformed = pd.DataFrame.sparse.from_spmatrix(X_test_transformed, columns=new_features)"
      ]
    },
    {
      "cell_type": "markdown",
      "metadata": {
        "id": "Esdtmplw5enH"
      },
      "source": [
        "### Обучение модели на полном наборе признаков"
      ]
    },
    {
      "cell_type": "code",
      "execution_count": 65,
      "metadata": {
        "id": "l81qDcXSzpO6"
      },
      "outputs": [
        {
          "data": {
            "text/html": [
              "<style>#sk-container-id-9 {color: black;}#sk-container-id-9 pre{padding: 0;}#sk-container-id-9 div.sk-toggleable {background-color: white;}#sk-container-id-9 label.sk-toggleable__label {cursor: pointer;display: block;width: 100%;margin-bottom: 0;padding: 0.3em;box-sizing: border-box;text-align: center;}#sk-container-id-9 label.sk-toggleable__label-arrow:before {content: \"▸\";float: left;margin-right: 0.25em;color: #696969;}#sk-container-id-9 label.sk-toggleable__label-arrow:hover:before {color: black;}#sk-container-id-9 div.sk-estimator:hover label.sk-toggleable__label-arrow:before {color: black;}#sk-container-id-9 div.sk-toggleable__content {max-height: 0;max-width: 0;overflow: hidden;text-align: left;background-color: #f0f8ff;}#sk-container-id-9 div.sk-toggleable__content pre {margin: 0.2em;color: black;border-radius: 0.25em;background-color: #f0f8ff;}#sk-container-id-9 input.sk-toggleable__control:checked~div.sk-toggleable__content {max-height: 200px;max-width: 100%;overflow: auto;}#sk-container-id-9 input.sk-toggleable__control:checked~label.sk-toggleable__label-arrow:before {content: \"▾\";}#sk-container-id-9 div.sk-estimator input.sk-toggleable__control:checked~label.sk-toggleable__label {background-color: #d4ebff;}#sk-container-id-9 div.sk-label input.sk-toggleable__control:checked~label.sk-toggleable__label {background-color: #d4ebff;}#sk-container-id-9 input.sk-hidden--visually {border: 0;clip: rect(1px 1px 1px 1px);clip: rect(1px, 1px, 1px, 1px);height: 1px;margin: -1px;overflow: hidden;padding: 0;position: absolute;width: 1px;}#sk-container-id-9 div.sk-estimator {font-family: monospace;background-color: #f0f8ff;border: 1px dotted black;border-radius: 0.25em;box-sizing: border-box;margin-bottom: 0.5em;}#sk-container-id-9 div.sk-estimator:hover {background-color: #d4ebff;}#sk-container-id-9 div.sk-parallel-item::after {content: \"\";width: 100%;border-bottom: 1px solid gray;flex-grow: 1;}#sk-container-id-9 div.sk-label:hover label.sk-toggleable__label {background-color: #d4ebff;}#sk-container-id-9 div.sk-serial::before {content: \"\";position: absolute;border-left: 1px solid gray;box-sizing: border-box;top: 0;bottom: 0;left: 50%;z-index: 0;}#sk-container-id-9 div.sk-serial {display: flex;flex-direction: column;align-items: center;background-color: white;padding-right: 0.2em;padding-left: 0.2em;position: relative;}#sk-container-id-9 div.sk-item {position: relative;z-index: 1;}#sk-container-id-9 div.sk-parallel {display: flex;align-items: stretch;justify-content: center;background-color: white;position: relative;}#sk-container-id-9 div.sk-item::before, #sk-container-id-9 div.sk-parallel-item::before {content: \"\";position: absolute;border-left: 1px solid gray;box-sizing: border-box;top: 0;bottom: 0;left: 50%;z-index: -1;}#sk-container-id-9 div.sk-parallel-item {display: flex;flex-direction: column;z-index: 1;position: relative;background-color: white;}#sk-container-id-9 div.sk-parallel-item:first-child::after {align-self: flex-end;width: 50%;}#sk-container-id-9 div.sk-parallel-item:last-child::after {align-self: flex-start;width: 50%;}#sk-container-id-9 div.sk-parallel-item:only-child::after {width: 0;}#sk-container-id-9 div.sk-dashed-wrapped {border: 1px dashed gray;margin: 0 0.4em 0.5em 0.4em;box-sizing: border-box;padding-bottom: 0.4em;background-color: white;}#sk-container-id-9 div.sk-label label {font-family: monospace;font-weight: bold;display: inline-block;line-height: 1.2em;}#sk-container-id-9 div.sk-label-container {text-align: center;}#sk-container-id-9 div.sk-container {/* jupyter's `normalize.less` sets `[hidden] { display: none; }` but bootstrap.min.css set `[hidden] { display: none !important; }` so we also need the `!important` here to be able to override the default hidden behavior on the sphinx rendered scikit-learn.org. See: https://github.com/scikit-learn/scikit-learn/issues/21755 */display: inline-block !important;position: relative;}#sk-container-id-9 div.sk-text-repr-fallback {display: none;}</style><div id=\"sk-container-id-9\" class=\"sk-top-container\"><div class=\"sk-text-repr-fallback\"><pre>RandomForestClassifier(class_weight=&#x27;balanced_subsample&#x27;, criterion=&#x27;entropy&#x27;,\n",
              "                       max_depth=5, n_estimators=300, random_state=8)</pre><b>In a Jupyter environment, please rerun this cell to show the HTML representation or trust the notebook. <br />On GitHub, the HTML representation is unable to render, please try loading this page with nbviewer.org.</b></div><div class=\"sk-container\" hidden><div class=\"sk-item\"><div class=\"sk-estimator sk-toggleable\"><input class=\"sk-toggleable__control sk-hidden--visually\" id=\"sk-estimator-id-17\" type=\"checkbox\" checked><label for=\"sk-estimator-id-17\" class=\"sk-toggleable__label sk-toggleable__label-arrow\">RandomForestClassifier</label><div class=\"sk-toggleable__content\"><pre>RandomForestClassifier(class_weight=&#x27;balanced_subsample&#x27;, criterion=&#x27;entropy&#x27;,\n",
              "                       max_depth=5, n_estimators=300, random_state=8)</pre></div></div></div></div></div>"
            ],
            "text/plain": [
              "RandomForestClassifier(class_weight='balanced_subsample', criterion='entropy',\n",
              "                       max_depth=5, n_estimators=300, random_state=8)"
            ]
          },
          "execution_count": 65,
          "metadata": {},
          "output_type": "execute_result"
        }
      ],
      "source": [
        "best_rf.fit(X_train_transformed, y_train_full)"
      ]
    },
    {
      "cell_type": "code",
      "execution_count": 66,
      "metadata": {
        "id": "pLECC4zKy5z3"
      },
      "outputs": [
        {
          "data": {
            "image/png": "[encoded data removed]",
            "text/plain": [
              "<Figure size 500x300 with 2 Axes>"
            ]
          },
          "metadata": {},
          "output_type": "display_data"
        },
        {
          "data": {
            "text/html": [
              "<div>\n",
              "<style scoped>\n",
              "    .dataframe tbody tr th:only-of-type {\n",
              "        vertical-align: middle;\n",
              "    }\n",
              "\n",
              "    .dataframe tbody tr th {\n",
              "        vertical-align: top;\n",
              "    }\n",
              "\n",
              "    .dataframe thead th {\n",
              "        text-align: right;\n",
              "    }\n",
              "</style>\n",
              "<table border=\"1\" class=\"dataframe\">\n",
              "  <thead>\n",
              "    <tr style=\"text-align: right;\">\n",
              "      <th></th>\n",
              "      <th>Sensitivity</th>\n",
              "      <th>Specificity</th>\n",
              "      <th>G Mean</th>\n",
              "      <th>MCC</th>\n",
              "    </tr>\n",
              "  </thead>\n",
              "  <tbody>\n",
              "    <tr>\n",
              "      <th>Best RF</th>\n",
              "      <td>0.846482</td>\n",
              "      <td>0.852401</td>\n",
              "      <td>0.849436</td>\n",
              "      <td>0.579391</td>\n",
              "    </tr>\n",
              "  </tbody>\n",
              "</table>\n",
              "</div>"
            ],
            "text/plain": [
              "         Sensitivity  Specificity    G Mean       MCC\n",
              "Best RF     0.846482     0.852401  0.849436  0.579391"
            ]
          },
          "execution_count": 66,
          "metadata": {},
          "output_type": "execute_result"
        }
      ],
      "source": [
        "full_pred = best_rf.predict(X_test_transformed)\n",
        "\n",
        "metrics_report('Best RF', y_test_full, full_pred)"
      ]
    },
    {
      "cell_type": "markdown",
      "metadata": {
        "id": "3Teqlz8h6yt7"
      },
      "source": [
        "**По сравнению с моделью, обученной только на числовых признаках:**\n",
        "\n",
        "После добавления категориальных признаков общая производительность модели незначительно снизились: G Mean -0.0001 и MCC -0.0096.\n",
        "\n",
        "Увеличилось качество классификации модели на объектах миноритарного положительного класса (+3.2%). Эффективность модели в предсказании преобладающего отрицательного класса снизилась (-3.36%).\n",
        "\n",
        "После включения категориальных признаков в модель Random Forest, значения эффективности прогнозирования для обоих классов стали ближе друг к другу. Качество модели, обученной на полном наборе признаков, по метрике Specificity (точность на преобладающем классе) превосходит значение по Sensitivity (точность на меньшем классе) всего на 0.59%. В то время как для модели, обученной только на числовых признаках, разница между Specificity и Sensitivity составляла 7.15%.\n",
        "\n",
        "Отмечается увеличение ложноположительных ответов, число которых приближается к числу истинно положительных объектов, а также снижение количества ложноотрицательных ответов."
      ]
    },
    {
      "cell_type": "markdown",
      "metadata": {
        "id": "dgKd7lk75ls1"
      },
      "source": [
        "### Подбор гиперпараметров"
      ]
    },
    {
      "cell_type": "code",
      "execution_count": 67,
      "metadata": {
        "id": "nM2gxo8R1VSh"
      },
      "outputs": [],
      "source": [
        "rf_params_full = {\n",
        "    'n_estimators': [300, 400, 500],\n",
        "    'criterion': ['gini', 'entropy'],\n",
        "    'max_features': ['sqrt', 'log2'],\n",
        "    'max_depth': [3, 5, 10, 15],\n",
        "    'class_weight': ['balanced', 'balanced_subsample']\n",
        "}"
      ]
    },
    {
      "cell_type": "code",
      "execution_count": 68,
      "metadata": {
        "id": "eaACoTm240Ar"
      },
      "outputs": [
        {
          "name": "stdout",
          "output_type": "stream",
          "text": [
            "Fitting 4 folds for each of 72 candidates, totalling 288 fits\n"
          ]
        },
        {
          "data": {
            "text/html": [
              "<style>#sk-container-id-10 {color: black;}#sk-container-id-10 pre{padding: 0;}#sk-container-id-10 div.sk-toggleable {background-color: white;}#sk-container-id-10 label.sk-toggleable__label {cursor: pointer;display: block;width: 100%;margin-bottom: 0;padding: 0.3em;box-sizing: border-box;text-align: center;}#sk-container-id-10 label.sk-toggleable__label-arrow:before {content: \"▸\";float: left;margin-right: 0.25em;color: #696969;}#sk-container-id-10 label.sk-toggleable__label-arrow:hover:before {color: black;}#sk-container-id-10 div.sk-estimator:hover label.sk-toggleable__label-arrow:before {color: black;}#sk-container-id-10 div.sk-toggleable__content {max-height: 0;max-width: 0;overflow: hidden;text-align: left;background-color: #f0f8ff;}#sk-container-id-10 div.sk-toggleable__content pre {margin: 0.2em;color: black;border-radius: 0.25em;background-color: #f0f8ff;}#sk-container-id-10 input.sk-toggleable__control:checked~div.sk-toggleable__content {max-height: 200px;max-width: 100%;overflow: auto;}#sk-container-id-10 input.sk-toggleable__control:checked~label.sk-toggleable__label-arrow:before {content: \"▾\";}#sk-container-id-10 div.sk-estimator input.sk-toggleable__control:checked~label.sk-toggleable__label {background-color: #d4ebff;}#sk-container-id-10 div.sk-label input.sk-toggleable__control:checked~label.sk-toggleable__label {background-color: #d4ebff;}#sk-container-id-10 input.sk-hidden--visually {border: 0;clip: rect(1px 1px 1px 1px);clip: rect(1px, 1px, 1px, 1px);height: 1px;margin: -1px;overflow: hidden;padding: 0;position: absolute;width: 1px;}#sk-container-id-10 div.sk-estimator {font-family: monospace;background-color: #f0f8ff;border: 1px dotted black;border-radius: 0.25em;box-sizing: border-box;margin-bottom: 0.5em;}#sk-container-id-10 div.sk-estimator:hover {background-color: #d4ebff;}#sk-container-id-10 div.sk-parallel-item::after {content: \"\";width: 100%;border-bottom: 1px solid gray;flex-grow: 1;}#sk-container-id-10 div.sk-label:hover label.sk-toggleable__label {background-color: #d4ebff;}#sk-container-id-10 div.sk-serial::before {content: \"\";position: absolute;border-left: 1px solid gray;box-sizing: border-box;top: 0;bottom: 0;left: 50%;z-index: 0;}#sk-container-id-10 div.sk-serial {display: flex;flex-direction: column;align-items: center;background-color: white;padding-right: 0.2em;padding-left: 0.2em;position: relative;}#sk-container-id-10 div.sk-item {position: relative;z-index: 1;}#sk-container-id-10 div.sk-parallel {display: flex;align-items: stretch;justify-content: center;background-color: white;position: relative;}#sk-container-id-10 div.sk-item::before, #sk-container-id-10 div.sk-parallel-item::before {content: \"\";position: absolute;border-left: 1px solid gray;box-sizing: border-box;top: 0;bottom: 0;left: 50%;z-index: -1;}#sk-container-id-10 div.sk-parallel-item {display: flex;flex-direction: column;z-index: 1;position: relative;background-color: white;}#sk-container-id-10 div.sk-parallel-item:first-child::after {align-self: flex-end;width: 50%;}#sk-container-id-10 div.sk-parallel-item:last-child::after {align-self: flex-start;width: 50%;}#sk-container-id-10 div.sk-parallel-item:only-child::after {width: 0;}#sk-container-id-10 div.sk-dashed-wrapped {border: 1px dashed gray;margin: 0 0.4em 0.5em 0.4em;box-sizing: border-box;padding-bottom: 0.4em;background-color: white;}#sk-container-id-10 div.sk-label label {font-family: monospace;font-weight: bold;display: inline-block;line-height: 1.2em;}#sk-container-id-10 div.sk-label-container {text-align: center;}#sk-container-id-10 div.sk-container {/* jupyter's `normalize.less` sets `[hidden] { display: none; }` but bootstrap.min.css set `[hidden] { display: none !important; }` so we also need the `!important` here to be able to override the default hidden behavior on the sphinx rendered scikit-learn.org. See: https://github.com/scikit-learn/scikit-learn/issues/21755 */display: inline-block !important;position: relative;}#sk-container-id-10 div.sk-text-repr-fallback {display: none;}</style><div id=\"sk-container-id-10\" class=\"sk-top-container\"><div class=\"sk-text-repr-fallback\"><pre>GridSearchCV(cv=4,\n",
              "             estimator=RandomForestClassifier(class_weight=&#x27;balanced_subsample&#x27;,\n",
              "                                              criterion=&#x27;entropy&#x27;, max_depth=5,\n",
              "                                              n_estimators=300,\n",
              "                                              random_state=8),\n",
              "             n_jobs=-1,\n",
              "             param_grid={&#x27;class_weight&#x27;: [&#x27;balanced&#x27;, &#x27;balanced_subsample&#x27;],\n",
              "                         &#x27;criterion&#x27;: [&#x27;gini&#x27;, &#x27;entropy&#x27;],\n",
              "                         &#x27;max_depth&#x27;: [5, 10, 15],\n",
              "                         &#x27;max_features&#x27;: [&#x27;sqrt&#x27;, &#x27;log2&#x27;],\n",
              "                         &#x27;n_estimators&#x27;: [300, 400, 500]},\n",
              "             scoring=&#x27;roc_auc&#x27;, verbose=2)</pre><b>In a Jupyter environment, please rerun this cell to show the HTML representation or trust the notebook. <br />On GitHub, the HTML representation is unable to render, please try loading this page with nbviewer.org.</b></div><div class=\"sk-container\" hidden><div class=\"sk-item sk-dashed-wrapped\"><div class=\"sk-label-container\"><div class=\"sk-label sk-toggleable\"><input class=\"sk-toggleable__control sk-hidden--visually\" id=\"sk-estimator-id-18\" type=\"checkbox\" ><label for=\"sk-estimator-id-18\" class=\"sk-toggleable__label sk-toggleable__label-arrow\">GridSearchCV</label><div class=\"sk-toggleable__content\"><pre>GridSearchCV(cv=4,\n",
              "             estimator=RandomForestClassifier(class_weight=&#x27;balanced_subsample&#x27;,\n",
              "                                              criterion=&#x27;entropy&#x27;, max_depth=5,\n",
              "                                              n_estimators=300,\n",
              "                                              random_state=8),\n",
              "             n_jobs=-1,\n",
              "             param_grid={&#x27;class_weight&#x27;: [&#x27;balanced&#x27;, &#x27;balanced_subsample&#x27;],\n",
              "                         &#x27;criterion&#x27;: [&#x27;gini&#x27;, &#x27;entropy&#x27;],\n",
              "                         &#x27;max_depth&#x27;: [5, 10, 15],\n",
              "                         &#x27;max_features&#x27;: [&#x27;sqrt&#x27;, &#x27;log2&#x27;],\n",
              "                         &#x27;n_estimators&#x27;: [300, 400, 500]},\n",
              "             scoring=&#x27;roc_auc&#x27;, verbose=2)</pre></div></div></div><div class=\"sk-parallel\"><div class=\"sk-parallel-item\"><div class=\"sk-item\"><div class=\"sk-label-container\"><div class=\"sk-label sk-toggleable\"><input class=\"sk-toggleable__control sk-hidden--visually\" id=\"sk-estimator-id-19\" type=\"checkbox\" ><label for=\"sk-estimator-id-19\" class=\"sk-toggleable__label sk-toggleable__label-arrow\">estimator: RandomForestClassifier</label><div class=\"sk-toggleable__content\"><pre>RandomForestClassifier(class_weight=&#x27;balanced_subsample&#x27;, criterion=&#x27;entropy&#x27;,\n",
              "                       max_depth=5, n_estimators=300, random_state=8)</pre></div></div></div><div class=\"sk-serial\"><div class=\"sk-item\"><div class=\"sk-estimator sk-toggleable\"><input class=\"sk-toggleable__control sk-hidden--visually\" id=\"sk-estimator-id-20\" type=\"checkbox\" ><label for=\"sk-estimator-id-20\" class=\"sk-toggleable__label sk-toggleable__label-arrow\">RandomForestClassifier</label><div class=\"sk-toggleable__content\"><pre>RandomForestClassifier(class_weight=&#x27;balanced_subsample&#x27;, criterion=&#x27;entropy&#x27;,\n",
              "                       max_depth=5, n_estimators=300, random_state=8)</pre></div></div></div></div></div></div></div></div></div></div>"
            ],
            "text/plain": [
              "GridSearchCV(cv=4,\n",
              "             estimator=RandomForestClassifier(class_weight='balanced_subsample',\n",
              "                                              criterion='entropy', max_depth=5,\n",
              "                                              n_estimators=300,\n",
              "                                              random_state=8),\n",
              "             n_jobs=-1,\n",
              "             param_grid={'class_weight': ['balanced', 'balanced_subsample'],\n",
              "                         'criterion': ['gini', 'entropy'],\n",
              "                         'max_depth': [5, 10, 15],\n",
              "                         'max_features': ['sqrt', 'log2'],\n",
              "                         'n_estimators': [300, 400, 500]},\n",
              "             scoring='roc_auc', verbose=2)"
            ]
          },
          "execution_count": 68,
          "metadata": {},
          "output_type": "execute_result"
        }
      ],
      "source": [
        "gs_full = GridSearchCV(best_rf, rf_params, scoring='roc_auc', cv=4, n_jobs=-1, verbose=2)\n",
        "gs_full.fit(X_train_transformed, y_train_full)"
      ]
    },
    {
      "cell_type": "code",
      "execution_count": 69,
      "metadata": {
        "id": "rDC44oKfAidN"
      },
      "outputs": [
        {
          "name": "stdout",
          "output_type": "stream",
          "text": [
            "roc_auc train: 0.921853171254192\n",
            "roc_auc test: 0.8262493245825316\n",
            "\n",
            "parameters:\n",
            "{'class_weight': 'balanced', 'criterion': 'entropy', 'max_depth': 15, 'max_features': 'sqrt', 'n_estimators': 500}\n"
          ]
        }
      ],
      "source": [
        "gs_full_pred = gs_full.best_estimator_.predict(X_test_transformed)\n",
        "\n",
        "print(f'roc_auc train: {gs_full.best_score_}')\n",
        "print(f'roc_auc test: {roc_auc_score(y_test, gs_full_pred)}\\n')\n",
        "print(f'parameters:\\n{gs_full.best_params_}')"
      ]
    },
    {
      "cell_type": "code",
      "execution_count": 70,
      "metadata": {
        "id": "ePCp-DE754HD"
      },
      "outputs": [
        {
          "data": {
            "image/png": "[encoded data removed]",
            "text/plain": [
              "<Figure size 500x300 with 2 Axes>"
            ]
          },
          "metadata": {},
          "output_type": "display_data"
        },
        {
          "data": {
            "text/html": [
              "<div>\n",
              "<style scoped>\n",
              "    .dataframe tbody tr th:only-of-type {\n",
              "        vertical-align: middle;\n",
              "    }\n",
              "\n",
              "    .dataframe tbody tr th {\n",
              "        vertical-align: top;\n",
              "    }\n",
              "\n",
              "    .dataframe thead th {\n",
              "        text-align: right;\n",
              "    }\n",
              "</style>\n",
              "<table border=\"1\" class=\"dataframe\">\n",
              "  <thead>\n",
              "    <tr style=\"text-align: right;\">\n",
              "      <th></th>\n",
              "      <th>Sensitivity</th>\n",
              "      <th>Specificity</th>\n",
              "      <th>G Mean</th>\n",
              "      <th>MCC</th>\n",
              "    </tr>\n",
              "  </thead>\n",
              "  <tbody>\n",
              "    <tr>\n",
              "      <th>GS Best RF</th>\n",
              "      <td>0.727079</td>\n",
              "      <td>0.92542</td>\n",
              "      <td>0.820276</td>\n",
              "      <td>0.620324</td>\n",
              "    </tr>\n",
              "  </tbody>\n",
              "</table>\n",
              "</div>"
            ],
            "text/plain": [
              "            Sensitivity  Specificity    G Mean       MCC\n",
              "GS Best RF     0.727079      0.92542  0.820276  0.620324"
            ]
          },
          "execution_count": 70,
          "metadata": {},
          "output_type": "execute_result"
        }
      ],
      "source": [
        "metrics_report('GS Best RF', y_test_full, gs_full_pred)"
      ]
    },
    {
      "cell_type": "markdown",
      "metadata": {
        "id": "_Pfl0FT0Ar0v"
      },
      "source": [
        "****По сравнению с моделью, обученной на полном наборе признаков без повторного побдора гиперпараметров:****\n",
        "\n",
        "После повторного подбора гиперпараметров для модели Random Forest на полном наборе признаков:\n",
        "- значение G Mean уменьшилось (-0.0304);\n",
        "- значение MCC увеличилось (+0.0394).\n",
        "\n",
        "Эти изменения в пооказателях общей производительности обусловлены следующими факторами:\n",
        "\n",
        "- Улучшение качества классификации объектов преобладающего класса (Specificity +7.3%) сопровождается более существенным снижением качества предсказания менее представленного классе (Sensitivity -12.16%). Это приводит к снижению показателя G Mean.\n",
        "\n",
        "- Соотношение ложноположительных и истинно верных ответов кажется более оптимальным. Из всех объектов, которые донастроенная модель определила как положительные, 64.03% действительно являются положительными (для модели без донастройки гиперпараметров этот показатель равен 51.23%). Кроме того, донастроенная модель в сумме делает меньше ошибок при классификации. Поэтому отмечается увеличение значение MCC."
      ]
    },
    {
      "cell_type": "markdown",
      "metadata": {
        "id": "pTuLt50TKtZx"
      },
      "source": [
        "**Выводы по итогам обучения модели Random Forest на полном наборе признаков и с дополнительным подбором гиперпараметров:**\n",
        "\n",
        "В целом эффект добавления категориальных признаков и дополнительного подбора гиперпараметров модели Random Forest кажется скорее положительным за счет сбалансированного уменьшения как ложноположительных, так и ложноотрицательных ответов. Хотя увеличивается предвзятость модели в сторону преобладающего отрицательного класса, что проявляется в увеличении Specificity и уменьшении Sensitivity, качество классификации объектов менее представленного в данных положительного класса остается достаточно высоким (72.49%). Эффективность определения объектов отрицательного класса составляет 92.54%. Доля ложно положительных ответов — 7.46%, доля ложноотрицательных ответов — 27.5%\n",
        "\n",
        "Итоговая оценка успешности модели будет зависеть от бизнес-требований и стоимости разного рода ошибок. В дальнейшем, возможно, следует провести отбор признаков для обучения и/или создать новые более значимые признаки."
      ]
    },
    {
      "cell_type": "code",
      "execution_count": 71,
      "metadata": {
        "id": "ETnuY5zmAL3D"
      },
      "outputs": [],
      "source": [
        "# joblib.dump(gs_full.best_estimator_, 'rf-models/best_full_random_forest.pkl')"
      ]
    },
    {
      "cell_type": "markdown",
      "metadata": {
        "id": "y3DK4muWHRll"
      },
      "source": [
        "## Explainer Dashboard"
      ]
    },
    {
      "cell_type": "markdown",
      "metadata": {},
      "source": [
        "### Построение Explainer Dashboard"
      ]
    },
    {
      "cell_type": "code",
      "execution_count": 72,
      "metadata": {
        "id": "DihtO0sz8nTS"
      },
      "outputs": [],
      "source": [
        "# model = joblib.load('rf-models/best_full_random_forest.pkl')\n",
        "\n",
        "model = gs_full.best_estimator_\n",
        "X_test_transformed.columns = new_features"
      ]
    },
    {
      "cell_type": "code",
      "execution_count": null,
      "metadata": {
        "colab": {
          "base_uri": "https://localhost:8080/"
        },
        "id": "NtjVLfD9xQKF",
        "outputId": "0afbb582-035b-4cad-c2e3-7c2c6378f9f2"
      },
      "outputs": [],
      "source": [
        "explainer = ClassifierExplainer(model, X_test_transformed, y_test_full, labels=['No Purchase', 'Purchase'])\n",
        "db = ExplainerDashboard(explainer, title='Online Shoppers Purchasing Intention Prediction', whatif=False, shap_interaction=False)\n",
        "db.to_yaml('dashboard.yaml', explainerfile='explainer.joblib', dump_explainer=True)\n",
        "\n",
        "db.run()"
      ]
    },
    {
      "cell_type": "markdown",
      "metadata": {},
      "source": [
        "<a id='my-section'></a>\n",
        "### Анализ Explainer Dashboard\n",
        "\n",
        "**1 _ Наиболее важные для получения прогноза факторы**\n",
        "\n",
        "![Shap Plot](https://raw.githubusercontent.com/ErmakovaAna/shoppers-intention-prediction/main/model/plots/shap.png)\n",
        "\n",
        "В топ-20 признаков, которые в среднем больше всего влияют на предсказание модели, попадают все числовые признаки и некоторые категориальные признаки. Из **категориальных признаков** для модели были важны следующие факторы:\n",
        "- месяц посещения сайта магазина: самые показательные месяцы — Ноябрь, Март, Май, Декабрь;\n",
        "- тип трафика, то есть по каким каналам пользователь попадает на сайт;\n",
        "- является ли пользователь новым покупателем или нет;\n",
        "- технические аспекты устройства, через котороое пользователь взаимодействует с сайтом.\n",
        "\n",
        "Из **числовых признаков** самое большое влияние на решение модели оказывает признак PageValues, то есть средняя ценность посещенных пользователем страниц. В среднем этот признак изменяет предсказанную вероятность того, что пользователь совершит покупку, более чем на 20%.\n",
        "\n",
        "Также важны такие показатели, как:\n",
        "- средние показатели выходов и отказов по страницам;\n",
        "- количество и продолжительность посещения страниц, при этом большее влияние оказывает посещение страниц, связанных с продуктом, и административных страниц, а взаимодействия с информационными страницами менее важны; \n",
        "- близость времени совершения сессии к праздничным дням SpecialDay (однако этот признак изменяет вероятность менее чем на 1%)."
      ]
    },
    {
      "cell_type": "markdown",
      "metadata": {},
      "source": [
        "**2 _ Значения метрик**\n",
        "\n",
        "| Metric          | Score   |\n",
        "|-----------------|---------|\n",
        "| Accuracy        | 0.895   | \n",
        "| Precision       | 0.641   |\n",
        "| Recall          | 0.727   |\n",
        "| F1 Score        | 0.681   |\n",
        "| ROC AUC Score   | 0.928   |\n",
        "| PR AUC Score    | 0.735   |\n",
        "| Log Loss        | 0.269   |\n",
        "\n",
        "Значения метрик при стандартном пороге 0.5 свидетельствуют о том, что модель показывает средюю производительность (около 68% по **F1**) и имеет небольшое отклонение предсказанных вероятностей от фактических значений классов (**Log Loss** — 0.269)\n",
        "\n",
        "Несмотря на сильный дисбаланс классов, модель показывает относительно сбалансированные (но не очень высокие) значения точности и полноты. Умеренный баланс между точностью и полнотой подтверждается значением **PR AUC Score**, которое составляет 73.5%.\n",
        "\n",
        "Классификатор делает больше ложноположительных предсказаний, чем ложноотрицательных. Из всех посещений сайта, во время которых была совершена покупка, модель смогла верно определить около 73% случаев (по **Recall**). И примерно в 64% случаев (**Precision**), когда модель предсказывала, что будет совершена покупка, пользователь сайта действительно что-то покупал. Высокий **ROC AUC Score** (около 93%) указывает на то, что модель достигает хорошего компромисса между ошибками разного рода.\n",
        "\n",
        "Значение **Accuracy**, говорит о том, что истнно положительные и истинно отрицательные ответы классификатора в сумме составляют 89.5% относительно всего набора тестовых данных.\n"
      ]
    },
    {
      "cell_type": "markdown",
      "metadata": {},
      "source": [
        "**3 _ Анализ индивидуальных прогнозов**\n",
        "*(Contribution Plot Depth = 8)*\n",
        "\n",
        "**Объект 2824**: истинный класс __*положительный*__, предсказанный класс __*положительный*__\n",
        "\n",
        "| Label         | Probability |\n",
        "|---------------|-------------|\n",
        "| No Purchase   | 17.3 %      |\n",
        "| Purchase*     | 82.7 %      |\n",
        "\n",
        "![2824](https://raw.githubusercontent.com/ErmakovaAna/shoppers-intention-prediction/main/model/plots/2824.png)\n",
        "\n",
        "Модель верно определила, что сессия завершилась совершением покупки. Наибольший вклад в решение внес признак средней ценности посещенных страниц PageValues, значение которого на данном объекте сильно превосходит среднее значение по данным. Также значимый положительный вклад внесли нулевые показатели отказов и выходов со страниц. Отрицательное влияние оказали факты выполнение сессии из региона 5, на операционной системе 4 и не в ноябре.\n",
        "\n",
        "**Объект 63**: истинный класс __*положительный*__, предсказанный класс __*отрицательный*__\n",
        "\n",
        "| Label        | Probability   |\n",
        "|--------------|---------------|\n",
        "| No Purchase  | 63.0 %        |\n",
        "| Purchase*    | 37.0 %        |\n",
        "\n",
        "![63](https://raw.githubusercontent.com/ErmakovaAna/shoppers-intention-prediction/main/model/plots/63.png)\n",
        "\n",
        "Модель показала, что во время сессии с 63% вероятностью покупки не будет, что является неверным предсказанием. На 37% вероятности, что объект относится к положительному классу, повлияло то, что сессия выполнялась в ноябре, и то, что не в мае, низкий показатель выходов, а также время, проведенное пользователем на Product Related страницах, которое превысило средние показатели примерно в 2 раза. Однако итоговая классификация была ошибочной, поскольку нулевой показатель ценности страниц оказывает сильное отрицательное влияние. Отрицательный вклад вносят также тип трафика 1 и то, что пользователь во время сессии не посещал административные страницы.\n",
        "\n",
        "**Объект 1351**: истинный класс __*отрицательный*__, предсказанный класс __*положительный*__\n",
        "\n",
        "|   Label        | Probability   |\n",
        "| --------------- | ------------- |\n",
        "| No Purchase*   | 23.4 %        |\n",
        "| Purchase       | 76.6 %        |\n",
        "\n",
        "![1351](https://raw.githubusercontent.com/ErmakovaAna/shoppers-intention-prediction/main/model/plots/1351.png)\n",
        "\n",
        "Модель делает неверную классификацию, показывая, что во время сессии с вероятностью 76.6% пользователь совершит покупку, но на самом деле покупки не было. На решение модели сильно влияет высокий показатель ценности страниц PageValues, примерно в 5 раз превышающий среднее значение. Кроме того положительный вклад вносят низкий показатель выходов, время проведенное пользователем на Product Related страницах, превысившее медианное значение по данным, а также трафик типа 2. Отрицательные вклад вносят показатель отказов, более чем в 4 раза превышающий медианное значение, то, что сессия выполнялась не в ноябре, то, что пользователь относится к категории Returning Visitor и что он не посетил административные страницы сайта.\n",
        "\n",
        "**Общие выводы по анализу индивидуальных прогнозов**\n",
        "\n",
        "- Значение показателя PageValues кажется слишком большим по сравнению с влиянием всех остальных признаков, что может привести к возникновению как ошибок первого, так и второго рода. При этом данный показатель предоставляет информацию о посещаемых страницах на основе данных о предыдущих сессиях и не имеет непосредственной связи с текущей сессией.  \n",
        "\n",
        "- Вклад числовых признаков в итоговый ответ понятен и интерпретуруем, поскольку значения эти признаков на конкретном объекте можно сравнить со средним и медианным значением по всем данным. В то же время, чтобы объяснить влияние категориальных признаков (например, факт, что сессия выполнялась в ноябре, вносит положительный вклад, а если был декабрь — отрицательный, или влияние операционной системы пользователя на конверсию) нужно дополнительное исследование."
      ]
    },
    {
      "cell_type": "markdown",
      "metadata": {},
      "source": []
    }
  ],
  "metadata": {
    "colab": {
      "provenance": []
    },
    "kernelspec": {
      "display_name": "Python 3",
      "name": "python3"
    },
    "language_info": {
      "codemirror_mode": {
        "name": "ipython",
        "version": 3
      },
      "file_extension": ".py",
      "mimetype": "text/x-python",
      "name": "python",
      "nbconvert_exporter": "python",
      "pygments_lexer": "ipython3",
      "version": "3.10.10"
    }
  },
  "nbformat": 4,
  "nbformat_minor": 0
}
